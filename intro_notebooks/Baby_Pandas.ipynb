{
  "nbformat": 4,
  "nbformat_minor": 0,
  "metadata": {
    "colab": {
      "provenance": [],
      "toc_visible": true,
      "collapsed_sections": [
        "IFCyqyzQb9ds",
        "-EYFP5S4cr14",
        "XsxNCDD4d79x",
        "kMnQRtxeevJe",
        "PKUpMCG_1PKy",
        "LGxcczR98EcI"
      ],
      "authorship_tag": "ABX9TyMUDc2rElSHyYDby/d7mwC8",
      "include_colab_link": true
    },
    "kernelspec": {
      "name": "python3",
      "display_name": "Python 3"
    },
    "language_info": {
      "name": "python"
    }
  },
  "cells": [
    {
      "cell_type": "markdown",
      "metadata": {
        "id": "view-in-github",
        "colab_type": "text"
      },
      "source": [
        "<a href=\"https://colab.research.google.com/github/LarrySnyder/ASJ/blob/main/intro_notebooks/Baby_Pandas.ipynb\" target=\"_parent\"><img src=\"https://colab.research.google.com/assets/colab-badge.svg\" alt=\"Open In Colab\"/></a>"
      ]
    },
    {
      "cell_type": "markdown",
      "source": [
        "# Baby Pandas\n",
        "\n",
        "This file is read-only. To work with it, you first need to **save a copy to your Google Drive:**\n",
        "\n",
        "1. Go to the *File* menu. (The *File* menu inside the notebook, right below the filename—not the *File* menu in your browser, at the top of your screen.)\n",
        "2. Choose *Save a copy in Drive*. (Log in to your Google account, if necessary.) Feel free to move it to a different folder in your Drive, if you want.\n",
        "3. Colab should open up a new browser tab with your copy of the notebook. Double-click the filename at the top of the window and rename it `Baby Pandas [your name(s)]`. \n",
        "4. Close the original read-only notebook in your browser.\n"
      ],
      "metadata": {
        "id": "pdAvxkGROQfE"
      }
    },
    {
      "cell_type": "markdown",
      "source": [
        "---\n",
        "> 👓 **Note:** This notebook is part of the *Algorithms and Social Justice* course at Lehigh University, Profs. Larry Snyder and Suzanne Edwards.\n",
        "---\n"
      ],
      "metadata": {
        "id": "n92vqZCZOWyE"
      }
    },
    {
      "cell_type": "markdown",
      "source": [
        "## Baby Pandas?\n",
        "\n",
        "This notebook gives a short overview of the basics of the Python package `pandas`—so, \"baby pandas.\" \n",
        "\n",
        "Let's just set the mood:\n",
        "\n",
        "![](https://media.tenor.com/EWPjzf41UAgAAAAd/gfg.gif)\n",
        "\n",
        "Along the way, we'll also point out some tidbits about Python itself that will be useful our notebooks. We'll call those **Python Bites.** \n",
        "\n",
        "We're really on a roll here."
      ],
      "metadata": {
        "id": "2b-kwKg6s5o7"
      }
    },
    {
      "cell_type": "markdown",
      "source": [
        "OK. First, let's import the `pandas` package. It's customary to abbreviate it as `pd`."
      ],
      "metadata": {
        "id": "xcHPTD5ouLr_"
      }
    },
    {
      "cell_type": "code",
      "source": [
        "import pandas as pd"
      ],
      "metadata": {
        "id": "91o6zbu5uREc"
      },
      "execution_count": null,
      "outputs": []
    },
    {
      "cell_type": "markdown",
      "source": [
        "Now we can reference anything within the `pandas` package using the prefix `pd`."
      ],
      "metadata": {
        "id": "2NmuMIDruSzQ"
      }
    },
    {
      "cell_type": "markdown",
      "source": [
        "## `pandas` DataFrames\n",
        "\n",
        "The main object in `pandas` is a **DataFrame.** A DataFrame is just a collection of data, in table form. You can think of it like a spreadsheet. DataFrames are useful for storing and manipulating datasets.\n",
        "\n",
        "There are lots of ways to build and fill a DataFrame in code. For example:"
      ],
      "metadata": {
        "id": "yphpqyTquD9q"
      }
    },
    {
      "cell_type": "code",
      "execution_count": null,
      "metadata": {
        "id": "cdPUVFKvs2oV"
      },
      "outputs": [],
      "source": [
        "my_df = pd.DataFrame(\n",
        "    [ ['Maginnes Hall', 1971, 'Academic'],                      # this part is the data itself\n",
        "    ['STEPS', 2010, 'Academic'], \n",
        "    ['Taylor House', 1907, 'Residential'],\n",
        "    ['Alumni Memorial Building', 1925, 'Administrative'] ], \n",
        "    columns=['Building', 'Year_Built', 'Type']                  # this part specifies the column names\n",
        ")"
      ]
    },
    {
      "cell_type": "markdown",
      "source": [
        "To view a DataFrame, just put its name alone on a line:"
      ],
      "metadata": {
        "id": "7ZponSf_woKu"
      }
    },
    {
      "cell_type": "code",
      "source": [
        "my_df"
      ],
      "metadata": {
        "id": "CnQDyP_8vbHm"
      },
      "execution_count": null,
      "outputs": []
    },
    {
      "cell_type": "markdown",
      "source": [
        "Each **row** of a DataFrame is an entry in the database. (It's sometimes called a **record.**) Each **column** of a DataFrame is one piece of information for those rows. (It's sometimes called a **field.**)"
      ],
      "metadata": {
        "id": "yt13MZbdaOWj"
      }
    },
    {
      "cell_type": "markdown",
      "source": [
        "---\n",
        "> 🐍 **Python Bite: Lists** \n",
        "> \n",
        "> A sequence of items, separated by commas and surrounded by square brackets, is a Python **list.** Here are some lists:\n",
        ">\n",
        "> ```\n",
        "[1, 5, 7, 12, 1735]\n",
        "['a', 'c', 'r']\n",
        "['Maginnes Hall', 1971, 'Academic']\n",
        "```\n",
        ">\n",
        "> Lists are very flexible; they can even contain other lists! In fact, what we passed to `pd.DataFrame()` to create `df` is a **list of lists:**\n",
        ">\n",
        "> ```\n",
        "[ ['Maginnes Hall', 1971, 'Academic'], \n",
        "['STEPS', 2010, 'Academic'], \n",
        "['Taylor House', 1907, 'Residential'],\n",
        "['Alumni Memorial Building', 1925, 'Administrative'] ]\n",
        "```\n",
        ">\n",
        "> We have a sequence of 4 items separated by commas and surrounded by brackets, and each of the 4 items is itself a sequence of 3 items separated by commas and surrounded by brackets. \n",
        "---"
      ],
      "metadata": {
        "id": "20OVvgr4w160"
      }
    },
    {
      "cell_type": "markdown",
      "source": [
        "Although we can build DataFrames in code, most of the time we'll be loading them from files. (Obviously, the files we load have to already have some database-like structure that `pandas` can interpret as a DataFrame. We couldn't just load a gif or a PowerPoint file, for example.) \n",
        "\n",
        "Let's load a file from the internet into a DataFrame. This is a database of episodes of *The Office.*"
      ],
      "metadata": {
        "id": "rtiHseoEycuX"
      }
    },
    {
      "cell_type": "code",
      "source": [
        "office_df = pd.read_csv(\"https://raw.githubusercontent.com/aidano-7/the-office-dataset/main/DataFiles/Episodes.csv\")"
      ],
      "metadata": {
        "id": "FbyXu5Saw1qz"
      },
      "execution_count": null,
      "outputs": []
    },
    {
      "cell_type": "code",
      "source": [
        "office_df"
      ],
      "metadata": {
        "id": "bfcItS6Mvbkz"
      },
      "execution_count": null,
      "outputs": []
    },
    {
      "cell_type": "markdown",
      "source": [
        "---\n",
        "> 🐍 **Python Bite: Printing Variables** \n",
        "> \n",
        "> When we put the name of a variable (like `office_df`) by itself on a line and then run the cell, we're asking Python to print the value of that variable. For example, try typing the following into the code cell below and running it:\n",
        ">\n",
        "> ```\n",
        "a = 17\n",
        "a\n",
        "```\n",
        ">\n",
        "> So when you type \n",
        "> ```\n",
        "office_df\n",
        "```\n",
        ">\n",
        "> you're just asking Python to print the value of the variable `office_df`. Now, `office_df` is a much more complicated variable than `a` because `office_df` is a whole DataFrame while `a` is just an integer, but the concept is the same.\n",
        ">\n",
        "> *Note*: This is only true for Jupyter notebooks. In other environments for programming in Python, if you just put a variable on a line by itself, it won't have any effect. To print it, you'd use the `print()` function:\n",
        "> ```\n",
        "print(a)\n",
        "print(office_df)\n",
        "```\n",
        "> \n",
        "> That works in a Jupyter notebook too, although the formatting of DataFrames isn't as nice that way.\n",
        "---"
      ],
      "metadata": {
        "id": "XRSv3WbaYtLj"
      }
    },
    {
      "cell_type": "code",
      "source": [
        "[...]"
      ],
      "metadata": {
        "id": "Se-4VL0R6s_a"
      },
      "execution_count": null,
      "outputs": []
    },
    {
      "cell_type": "markdown",
      "source": [
        "## Accessing Parts of a DataFrame \n",
        "\n",
        "Often we want to view or manipulate parts of DataFrame, like:\n",
        "\n",
        "* row 3\n",
        "* the column called \"EpisodeTitle\"\n",
        "* the entry in the \"SeasonID\" column in row 37\n",
        "* the \"EpisodeID\" and \"SeasonID\" columns for rows 10–20\n",
        "\n",
        "Examples of all of these are given below. \n",
        "\n",
        "To be perfectly honest, I constantly forget the syntax for doing these things, and I have to look it up in another notebook or online. (Here's a handy [cheatsheet](https://pandas.pydata.org/Pandas_Cheat_Sheet.pdf); see the section called \"Subsets - rows and columns\".)"
      ],
      "metadata": {
        "id": "9uShCWWFaICZ"
      }
    },
    {
      "cell_type": "markdown",
      "source": [
        "#### Accessing rows:"
      ],
      "metadata": {
        "id": "IFCyqyzQb9ds"
      }
    },
    {
      "cell_type": "code",
      "source": [
        "# Get row 3.\n",
        "office_df.iloc[3]"
      ],
      "metadata": {
        "id": "Y8UzLmijbjl1"
      },
      "execution_count": null,
      "outputs": []
    },
    {
      "cell_type": "code",
      "source": [
        "# Get rows 3-7.\n",
        "office_df.iloc[3:8]"
      ],
      "metadata": {
        "id": "zjK1DBmEcFbB"
      },
      "execution_count": null,
      "outputs": []
    },
    {
      "cell_type": "markdown",
      "source": [
        "---\n",
        "> 🐍 **Python Bite: Numbering Things** \n",
        "> \n",
        "> In Python, things tend to be numbered starting at 0, not 1. So \"row 3\" in a DataFrame is really the 4th row, because the first row is \"row 0\". (Look back at the *Office* DataFrame and you'll see what I mean.)\n",
        "> \n",
        "> Also, when we specify a range of integers like `3:8`, the second number refers to the integer *after* the last one we want. In other words, if we want 3 through 7, we ask for `3:8`. It's weird and kind of confusing, but you'll get used to it.\n",
        "---"
      ],
      "metadata": {
        "id": "MbM-dCaccZFI"
      }
    },
    {
      "cell_type": "markdown",
      "source": [
        "#### Accessing columns:\n",
        "\n",
        "Remember, \"column 2\" is really the third column because we start at 0. And the column that's printed in bold, the one with no header? That one doesn't count *at all*, so \"column 2\" is really the fourth column in the printout! 🤦\n"
      ],
      "metadata": {
        "id": "-EYFP5S4cr14"
      }
    },
    {
      "cell_type": "code",
      "source": [
        "# Get column 2. \n",
        "office_df.iloc[:, 2]\n",
        "# (\":, 2\" means \"all rows, column 2\")"
      ],
      "metadata": {
        "id": "zfZOnGzScw0g"
      },
      "execution_count": null,
      "outputs": []
    },
    {
      "cell_type": "code",
      "source": [
        "# Get the \"Rating\" column.\n",
        "office_df[\"Rating\"]"
      ],
      "metadata": {
        "id": "lnMR5xT9cQLc"
      },
      "execution_count": null,
      "outputs": []
    },
    {
      "cell_type": "code",
      "source": [
        "# Get the \"EpisodeID\" and \"Rating\" columns.\n",
        "office_df[[\"EpisodeID\", \"Rating\"]]\n",
        "# Note: Since we're asking for multiple columns, we need to give a *list* of columns,\n",
        "# hence the double-brackets!"
      ],
      "metadata": {
        "id": "5ZGdzhWOfY2h"
      },
      "execution_count": null,
      "outputs": []
    },
    {
      "cell_type": "markdown",
      "source": [
        "#### Accessing rows and columns:"
      ],
      "metadata": {
        "id": "XsxNCDD4d79x"
      }
    },
    {
      "cell_type": "code",
      "source": [
        "# Get row 3, column 2.\n",
        "office_df.iloc[3, 2]"
      ],
      "metadata": {
        "id": "61amtMUPd5bO"
      },
      "execution_count": null,
      "outputs": []
    },
    {
      "cell_type": "code",
      "source": [
        "# Get rows 3-7, column 2.\n",
        "office_df.iloc[3:8, 2]"
      ],
      "metadata": {
        "id": "NjUnJajFeGUN"
      },
      "execution_count": null,
      "outputs": []
    },
    {
      "cell_type": "code",
      "source": [
        "# Get rows 3-7, columns 2-3.\n",
        "office_df.iloc[3:8, 2:4]"
      ],
      "metadata": {
        "id": "zLlBgsY7eKbJ"
      },
      "execution_count": null,
      "outputs": []
    },
    {
      "cell_type": "code",
      "source": [
        "# Get rows 3-7, \"Rating\" column.\n",
        "office_df.loc[3:8, \"Rating\"]\n",
        "# Note: loc, not iloc -- because we're specifying the column as a name, not an integer."
      ],
      "metadata": {
        "id": "Tf9rPGmheQD_"
      },
      "execution_count": null,
      "outputs": []
    },
    {
      "cell_type": "markdown",
      "source": [
        "### Your Turn"
      ],
      "metadata": {
        "id": "kMnQRtxeevJe"
      }
    },
    {
      "cell_type": "code",
      "source": [
        "# Get row 30.\n",
        "[...]"
      ],
      "metadata": {
        "id": "A0XnU-PXeifC"
      },
      "execution_count": null,
      "outputs": []
    },
    {
      "cell_type": "code",
      "source": [
        "# Get column 0.\n",
        "[...]"
      ],
      "metadata": {
        "id": "xQh0W5ocezlf"
      },
      "execution_count": null,
      "outputs": []
    },
    {
      "cell_type": "code",
      "source": [
        "# Get the \"SeasonID\" column.\n",
        "[...]"
      ],
      "metadata": {
        "id": "voXrwIzRe3ku"
      },
      "execution_count": null,
      "outputs": []
    },
    {
      "cell_type": "code",
      "source": [
        "# Get rows 35–40.\n",
        "[...]"
      ],
      "metadata": {
        "id": "QXkmnky5e6Rw"
      },
      "execution_count": null,
      "outputs": []
    },
    {
      "cell_type": "code",
      "source": [
        "# Get rows 15-20, \"EpisodeTitle\" column.\n",
        "[...]"
      ],
      "metadata": {
        "id": "GgnYYsnJe9FE"
      },
      "execution_count": null,
      "outputs": []
    },
    {
      "cell_type": "code",
      "source": [
        "# Get rows 0-7, \"EpisodeID\" and \"EpisodeTitle\" columns.\n",
        "[...]"
      ],
      "metadata": {
        "id": "4sydEZhNftyf"
      },
      "execution_count": null,
      "outputs": []
    },
    {
      "cell_type": "markdown",
      "source": [
        "---\n",
        "> 🐍 **Python Bite: `=` and `==`** \n",
        "> \n",
        "> There are two kinds of equal signs in Python:\n",
        ">\n",
        "> * `=` means \"set the thing on the left equal to the thing on the right\"\n",
        "> * `==` means \"is the thing on the left equal to the thing on the right?\"\n",
        ">\n",
        "> `=` is a command, an instruction, while `==` is a question. So:\n",
        ">\n",
        "> ```\n",
        "b = 7\n",
        "```\n",
        "> means \"take the variable `b` (create if it doesn't already exist) and set it equal to 7. Whereas\n",
        ">\n",
        "> ```\n",
        "b == 7\n",
        "```\n",
        ">\n",
        "> means \"does the variable `b` equal 7?\" Note that `b` has to already exist in this case; if it doesn't already exist, Python will give an error.\n",
        "---"
      ],
      "metadata": {
        "id": "AcYv8BlTznza"
      }
    },
    {
      "cell_type": "markdown",
      "source": [
        "## Taking Subsets of a DataFrame\n",
        "\n",
        "One thing we do quite often is to take *subsets* of a DataFrame—that is, taking pieces of the DataFrame according to some condition.\n",
        "\n",
        "For example, we might want to create a new DataFrame, called `season_3_df`, which contains only the rows of `office_df` corresponding to episodes in season 3.\n",
        "\n",
        "The command to do this is as follows:"
      ],
      "metadata": {
        "id": "zaj1W_bmvdXk"
      }
    },
    {
      "cell_type": "code",
      "source": [
        "season_3_df = office_df[office_df[\"SeasonID\"] == 3]"
      ],
      "metadata": {
        "id": "m3KdZydev7cZ"
      },
      "execution_count": null,
      "outputs": []
    },
    {
      "cell_type": "markdown",
      "source": [
        "But this command is a little inscrutable, so let's build up to it, piece by piece.\n",
        "\n",
        "First, remember that `office_df[\"SeasonID\"]` gives us the whole \"SeasonID\" column:"
      ],
      "metadata": {
        "id": "9ZrN92yzwDcQ"
      }
    },
    {
      "cell_type": "code",
      "source": [
        "office_df[\"SeasonID\"]"
      ],
      "metadata": {
        "id": "w5XE1D3nv_5G"
      },
      "execution_count": null,
      "outputs": []
    },
    {
      "cell_type": "markdown",
      "source": [
        "If we say `office_df[\"SeasonID\"] == 3`, we are creating a new column which, for each row, equals `True` if the \"SeasonID\" for that row is 3 and equals `False` otherwise. (Note the the `==` here: We're testing the condition, \"does 'SeasonID' equal 3?\")"
      ],
      "metadata": {
        "id": "tCsdeqwNwVB8"
      }
    },
    {
      "cell_type": "code",
      "source": [
        "office_df[\"SeasonID\"] == 3"
      ],
      "metadata": {
        "id": "g5hGZpjrwRm3"
      },
      "execution_count": null,
      "outputs": []
    },
    {
      "cell_type": "markdown",
      "source": [
        "(All the entries look `False`, but that's because only the first few and last few rows are displayed, and the `True` entries are in the middle.)\n",
        "\n",
        "Now, if you say `office_df[*a list of Trues and Falses*]`, where `*a list of Trues and Falses*` has the same length as the number of rows in `office_df`, you will get the rows of `office_df` that correspond to the `True` entries only.\n",
        "\n",
        "For example: `office_df` has 186 rows. The code `[True, False] * 93` is a shortcut to get a list with 186 elements that has `True, False` repeated 93 times: `[True, False, True, False, ...]` etc. \n",
        "\n",
        "Take a guess: What will `office_df[[True, False] * 93]` look like?\n",
        "\n",
        "Now try it:"
      ],
      "metadata": {
        "id": "1tzIfUv3xSgz"
      }
    },
    {
      "cell_type": "code",
      "source": [
        "office_df[[True, False] * 93]"
      ],
      "metadata": {
        "id": "bpzaxKoaxXsw"
      },
      "execution_count": null,
      "outputs": []
    },
    {
      "cell_type": "markdown",
      "source": [
        "Now, remember that `office_df[\"SeasonID\"] == 3` is *also* just a list of `True`s and `False`s. (Technically, it's not a Python list, it's a column of a `pandas` DataFrame, but that's OK.) In particular, it's a list that says, for each row, whether the \"SeasonID\" is 3.\n",
        "\n",
        "So, we can say `office_df[office_df[\"SeasonID\"] == 3]`, and it will give us the rows of `office_df` for which the \"SeasonID\" is 3.\n",
        "\n",
        "Try it:"
      ],
      "metadata": {
        "id": "FVjwpaEpyyQ_"
      }
    },
    {
      "cell_type": "code",
      "source": [
        "office_df[office_df[\"SeasonID\"] == 3]"
      ],
      "metadata": {
        "id": "WeQmLWzzwjkZ"
      },
      "execution_count": null,
      "outputs": []
    },
    {
      "cell_type": "markdown",
      "source": [
        "We're almost done: We've *created* the DataFrame that we want (i.e., a DataFrame consisting of rows of `office_df` for which \"SeasonID\" is 3), but we haven't stored it anywhere. Remember that we want to store it in a variable called `season_3_df`. So we just assign it. (Note the single `=` for assignment.)"
      ],
      "metadata": {
        "id": "62xjUMB3zPj2"
      }
    },
    {
      "cell_type": "code",
      "source": [
        "season_3_df = office_df[office_df[\"SeasonID\"] == 3]"
      ],
      "metadata": {
        "id": "AhwPJg1LxCDN"
      },
      "execution_count": null,
      "outputs": []
    },
    {
      "cell_type": "code",
      "source": [
        "season_3_df"
      ],
      "metadata": {
        "id": "tz-6hoLOzeIt"
      },
      "execution_count": null,
      "outputs": []
    },
    {
      "cell_type": "markdown",
      "source": [
        "We can also test things other than equality. For example, we can get all rows in which the rating is greater than or equal to 9:"
      ],
      "metadata": {
        "id": "cnohfLGv0qSI"
      }
    },
    {
      "cell_type": "code",
      "source": [
        "office_df[office_df[\"Rating\"] >= 9]"
      ],
      "metadata": {
        "id": "0SQnxaLzzfPS"
      },
      "execution_count": null,
      "outputs": []
    },
    {
      "cell_type": "markdown",
      "source": [
        "We can test multiple conditions at once, using `&` to represent \"and\" and `|` to represent \"or\". Each condition must be put inside parentheses.\n",
        "\n",
        "For example, we can get all rows in which the rating is less than 7 and the season is greater than or equal to 4:"
      ],
      "metadata": {
        "id": "ciwJLKx17afq"
      }
    },
    {
      "cell_type": "code",
      "source": [
        "office_df[(office_df[\"Rating\"] < 7) & (office_df[\"SeasonID\"] >= 4)]"
      ],
      "metadata": {
        "id": "aOZfsjJR7gRT"
      },
      "execution_count": null,
      "outputs": []
    },
    {
      "cell_type": "markdown",
      "source": [
        "Instead of comparing a column to a single number, we can even compare it to another column! For example, this code gives us all rows for which the \"SeasonID\" and the \"EpisodeID\" are the same. (There's only one such episode.)\n",
        "\n",
        "(Pay special attention to this type of command; it will come up a bunch of times in the COMPAS notebook.)"
      ],
      "metadata": {
        "id": "eGWr2oQ103iW"
      }
    },
    {
      "cell_type": "code",
      "source": [
        "office_df[office_df[\"SeasonID\"] == office_df[\"EpisodeID\"]]"
      ],
      "metadata": {
        "id": "J7w9rzxk0zlS"
      },
      "execution_count": null,
      "outputs": []
    },
    {
      "cell_type": "markdown",
      "source": [
        "### Your Turn"
      ],
      "metadata": {
        "id": "PKUpMCG_1PKy"
      }
    },
    {
      "cell_type": "code",
      "source": [
        "# Get all rows for which \"EpisodeID\" is less than 50.\n",
        "[...]"
      ],
      "metadata": {
        "id": "N3DNTNv71HpG"
      },
      "execution_count": null,
      "outputs": []
    },
    {
      "cell_type": "code",
      "source": [
        "# Get all rows for which \"Rating\" is less than 7, and store it in a new \n",
        "# variable called bad_episodes.\n",
        "[...]"
      ],
      "metadata": {
        "id": "c9xkza8g1kss"
      },
      "execution_count": null,
      "outputs": []
    },
    {
      "cell_type": "code",
      "source": [
        "# Get all rows for which the \"SeasonID\" equals the \"Rating\". \n",
        "# (This seems like a silly thing to want to do, but oh well.)\n",
        "[...]"
      ],
      "metadata": {
        "id": "AJsOpB_z1tYh"
      },
      "execution_count": null,
      "outputs": []
    },
    {
      "cell_type": "code",
      "source": [
        "# Get all rows for which \"EpisodeID\" is less than 100 or\n",
        "# \"Rating\" is greater than or equal to 9.\n",
        "[...]"
      ],
      "metadata": {
        "id": "u_DG1FtW78QE"
      },
      "execution_count": null,
      "outputs": []
    },
    {
      "cell_type": "markdown",
      "source": [
        "## Adding Columns\n",
        "\n",
        "We often want to add new columns to DataFrames. (You can add rows, too, but this is less common.) We can do this just by setting the new column equal to a list of values.\n",
        "\n",
        "For example, go back to the small `my_df` DataFrame, which contains data about Lehigh buildings. Let's add a column called \"Address\":"
      ],
      "metadata": {
        "id": "WEceecJI49o5"
      }
    },
    {
      "cell_type": "code",
      "source": [
        "my_df[\"Address\"] = [\"9 West Packer Ave.\", \"1 West Packer Ave.\", \"68 University Dr.\", \"27 Memorial Dr. West\"]"
      ],
      "metadata": {
        "id": "gjzqSmNa8w_-"
      },
      "execution_count": null,
      "outputs": []
    },
    {
      "cell_type": "code",
      "source": [
        "my_df"
      ],
      "metadata": {
        "id": "fShZI0q-9EEU"
      },
      "execution_count": null,
      "outputs": []
    },
    {
      "cell_type": "markdown",
      "source": [
        "Or, suppose I want to add a new column to `office_df` called \"MyRating\" which has my own rating for each episode.\n",
        "\n",
        "(I don't feel like typing 186 ratings, so I'll just generate them randomly for the purposes of this example. We'll need `numpy` to do that.) "
      ],
      "metadata": {
        "id": "TBMafA8T8fDK"
      }
    },
    {
      "cell_type": "code",
      "source": [
        "import numpy as np"
      ],
      "metadata": {
        "id": "XidYF2O012kM"
      },
      "execution_count": null,
      "outputs": []
    },
    {
      "cell_type": "code",
      "source": [
        "office_df[\"MyRating\"] = np.random.randint(11, size=186) # random integers between 0 and 10"
      ],
      "metadata": {
        "id": "Z-P6sPwi5n0R"
      },
      "execution_count": null,
      "outputs": []
    },
    {
      "cell_type": "code",
      "source": [
        "office_df"
      ],
      "metadata": {
        "id": "O-oCOQsE6GdM"
      },
      "execution_count": null,
      "outputs": []
    },
    {
      "cell_type": "markdown",
      "source": [
        "### Your Turn"
      ],
      "metadata": {
        "id": "LGxcczR98EcI"
      }
    },
    {
      "cell_type": "code",
      "source": [
        "# Add a column to the my_df DataFrame called \"Visit\" which contains,\n",
        "# for each building, True if you visit that building at least once per week\n",
        "# and False otherwise.\n",
        "[...]"
      ],
      "metadata": {
        "id": "PdlDhahA8FKI"
      },
      "execution_count": null,
      "outputs": []
    },
    {
      "cell_type": "code",
      "source": [],
      "metadata": {
        "id": "61urVXIj9L1S"
      },
      "execution_count": null,
      "outputs": []
    }
  ]
}