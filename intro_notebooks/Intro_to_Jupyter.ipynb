{
  "nbformat": 4,
  "nbformat_minor": 0,
  "metadata": {
    "colab": {
      "provenance": [],
      "collapsed_sections": [],
      "include_colab_link": true
    },
    "kernelspec": {
      "name": "python3",
      "display_name": "Python 3"
    },
    "language_info": {
      "name": "python"
    }
  },
  "cells": [
    {
      "cell_type": "markdown",
      "metadata": {
        "id": "view-in-github",
        "colab_type": "text"
      },
      "source": [
        "<a href=\"https://colab.research.google.com/github/LarrySnyder/ASJ/blob/main/intro_notebooks/Intro_to_Jupyter.ipynb\" target=\"_parent\"><img src=\"https://colab.research.google.com/assets/colab-badge.svg\" alt=\"Open In Colab\"/></a>"
      ]
    },
    {
      "cell_type": "markdown",
      "source": [
        "# Hi there! 👋\n",
        "\n",
        "You found your way to our first Jupyter notebook in Colab. Congrats!\n",
        "\n",
        "This file is read-only. To work with it, you first need to **save a copy to your Google Drive:**\n",
        "\n",
        "1. Go to the *File* menu. (The *File* menu inside the notebook, right below `Intro to Jupyter`—not the *File* menu in your browser, at the top of your screen.)\n",
        "2. Choose *Save a copy in Drive*. (Log in to your Google account, if necessary.) Feel free to move it to a different folder in your Drive, if you want.\n",
        "3. Colab should open up a new browser tab with your copy of the notebook. Double-click the filename at the top of the window and rename it `Intro to Jupyter [your name(s)]`. \n",
        "4. Close the original read-only notebook in your browser.\n",
        "\n"
      ],
      "metadata": {
        "id": "WPd2kJctI0Ni"
      }
    },
    {
      "cell_type": "markdown",
      "source": [
        "---\n",
        "> 👓 **Note:** This notebook is part of the *Algorithms and Social Justice* course at Lehigh University, Profs. Larry Snyder and Suzanne Edwards.\n",
        "---\n"
      ],
      "metadata": {
        "id": "S7pdbEbd3W09"
      }
    },
    {
      "cell_type": "markdown",
      "source": [
        "---\n",
        "> 👓 **Note:** Portions of this notebook are adapted from the *Data-4ac* course at the University of California–Berkeley, Spring 2021, Prof. Margarita Boenig-Liptsin. Available at https://github.com/ds-modules/data-4ac. \n",
        "---\n",
        "\n"
      ],
      "metadata": {
        "id": "dyllQEDAXGdA"
      }
    },
    {
      "cell_type": "markdown",
      "source": [
        "# Introduction to Jupyter Notebooks\n",
        "\n",
        "Welcome to this Jupyter Notebook! **Notebooks** are documents that support interactive computing in which code is interwoven with text, visualizations, and more.\n",
        "\n",
        "The Jupyter Notebook was first released as a web-based interface in 2011. It originally supported the programming languages **Ju**lia, **Py**thon, and **R** (hence \"Jupyter\"), but now supports over 40 different languages.\n",
        "\n",
        "Notebook interfaces for other programming languages (e.g., Mathematica and MATLAB) have been around even longer, but Jupyter notebooks have become a standard way to share research methodology and results for open-source scientific tools. \n"
      ],
      "metadata": {
        "id": "i76IXr9sZxFU"
      }
    },
    {
      "cell_type": "markdown",
      "source": [
        "## Why (Jupyter) Notebooks?\n",
        "Notebooks are used for *literate programming*, a programming paradigm introduced by Donald Knuth in 1984, in which a programming language is accompanied with a documentation language, or a natural language. In other words, the computer program has an explanation in a natural language. This approach to programming effectively treats software as works of literature ([Knuth, *Literate Programming*](http://www.literateprogramming.com/knuthweb.pdf)).  It helps readers and users to have a strong conceptual map of what is happening in the code and also have clarity on the flow and logic of the code/program.\n",
        "\n",
        "Jupyter leverages this idea and enables users to create and share documents that combine code, visualizations, narrative text, equations, and rich media. Notebooks are multipurpose and can be used in any discipline. The notebook is like a laboratory notebook, but for computing. Researchers can write code to work with their data while supplementing their methods with explanations, analysis, or hypotheses. Notebooks are also used in education because they enable students  to engage with content presented in different forms, experience computation with no prior experience, and practice programming in a scaffolded way. \n",
        "\n",
        "---\n",
        "> 👓 In ISE/WGSS 296, we'll be using Jupyter notebooks to introduce you to how algorithm designers implement their algorithms, to learn about issues of social justice using real-world data sets, and to learn how to reason about the human choices embedded in algorithms.\n",
        "---\n",
        "\n",
        "You're using this Jupyter notebook in Google's Colaboratory system (or **Colab**, for short). Colab is only one of many ways to access a Jupyter notebook, but it's convenient for us since it can be shared easily, it lives in the Google ecosystem, and it bypasses some of the annoying Python-related stuff that you'd need to do if you run Jupyter locally on your computer."
      ],
      "metadata": {
        "id": "2KP88J8CbEoj"
      }
    },
    {
      "cell_type": "markdown",
      "source": [
        "## Notebook Cells\n",
        "\n",
        "A notebook is composed of rectangular sections called **cells**. There are 2 kinds of cells: markdown and code. A **markdown cell**, such as this one, contains text. A **code cell** contains computer code—often in Python, the programming language that we will be using throughout this class, but sometimes in another language.\n",
        "\n",
        "You can select any cell by clicking it once.\n",
        "\n",
        "\n",
        "To \"run\" a code cell (i.e. tell the computer to perform the programmed instructions in the cell), select it and then either:\n",
        "- press `Shift` + `Return`, or\n",
        "- click the ▶ icon to the left of the cell.\n",
        "\n",
        "If a code cell is running, you will see a progress indicator the left of the cell. Once the cell has finished running, a number will replace the asterisk and any output from the code will appear under the cell.\n"
      ],
      "metadata": {
        "id": "Z80nkVK8q8Fh"
      }
    },
    {
      "cell_type": "markdown",
      "source": [
        "## Let's Try It!\n",
        "\n",
        "Time to create your (maybe) first Python program. Everybody's favorite first program prints \"Hello, world!\" to the screen, and that's what yours will do, too.\n",
        "\n",
        "In the cell below this one, delete the ellipsis (`...`) and type\n",
        "\n",
        "```\n",
        "print('Hello, world!')\n",
        "```\n",
        "\n",
        "Type it exactly as it is above—don't change any of the punctuation, capitalization, etc. \n",
        "\n",
        "After you type the command, and while the cursor is still in the cell, run the cell using one of the methods described above.\n",
        "\n",
        "If you did everything correctly, the output of your code—`Hello, world!`—will appear below the cell.\n"
      ],
      "metadata": {
        "id": "xob-ZPi2qzV9"
      }
    },
    {
      "cell_type": "code",
      "source": [
        "# YOUR CODE HERE!\n",
        "..."
      ],
      "metadata": {
        "id": "dOIOHEc3rbpx"
      },
      "execution_count": null,
      "outputs": []
    },
    {
      "cell_type": "markdown",
      "source": [
        "# Working with Notebooks\n",
        "\n"
      ],
      "metadata": {
        "id": "7DJ4R9gjcsvG"
      }
    },
    {
      "cell_type": "markdown",
      "source": [
        "## Comments\n",
        "\n",
        "You'll notice that many code cells contain lines of colored text that start with a `#`. These are **comments**. Comments often contain helpful information about what the code does or what you are supposed to do in the cell. The leading `#` tells the computer to ignore whatever text follows it—that text is meant for humans, not for the computer."
      ],
      "metadata": {
        "id": "0e3BPbxzek1J"
      }
    },
    {
      "cell_type": "markdown",
      "source": [
        "## Editing Markdown Cells\n",
        "\n",
        "You can change the text in a markdown cell by double-clicking it. Text in markdown cells is written in [**Markdown**](https://www.ibm.com/docs/en/watson-studio-local/1.2.3?topic=notebooks-markdown-jupyter-cheatsheet), a formatting language for plain text, so you may see some funky symbols should you try and edit a markdown cell we've already written. Once you've made changes to a markdown cell, you can exit editing mode by running the cell the same way you'd run a code cell.\n",
        "\n",
        "**Try double-clicking on this text to see what some Markdown formatting looks like.**"
      ],
      "metadata": {
        "id": "jQkay-a1f9uL"
      }
    },
    {
      "cell_type": "markdown",
      "source": [
        "## Adding and Deleting Cells\n",
        "\n",
        "You can add cells by clicking either `+ Code` or `+ Text` at the top of the screen. This will add a cell immediately below the currently selected cell.\n",
        "\n",
        "To delete a cell, select it and then click the trashcan icon in the popup menu at the top-right of the cell. (If you accidentally delete a cell that you need, you can undo it using 'Edit' > 'Undo Delete Cells'. If you accidentally delete content in a cell, you can use `Ctrl` + `Z` to undo.)"
      ],
      "metadata": {
        "id": "OsaaeMmpgpWN"
      }
    },
    {
      "cell_type": "markdown",
      "source": [
        "## Saving and Loading\n",
        "\n",
        "Your notebook will automatically save your text and code edits, as well as any graphs you generate or any calculations you make. However, you can also manually save the notebook in its current state by using `Ctrl` + `S` or by going to the `File` menu and selecting `Save`.\n",
        "\n",
        "Next time you open your notebook, it will look the same as when you last saved it!\n",
        "\n",
        "**Note:** When you load a notebook you will see all the outputs from your last saved session (such as graphs, computations, etc.) but you won't be able to use any of the variables you assigned in your code without running it again. (You'll learn a little bit about variables in the next section.)\n",
        "\n",
        "An easy way to \"catch up\" to the last work you did is to highlight the cell you left off on, then go to `Runtime` menu and click `Run before`."
      ],
      "metadata": {
        "id": "wFA9endOhF3w"
      }
    },
    {
      "cell_type": "markdown",
      "source": [
        "# Some Things You Can Do with Jupyter Notebooks\n",
        "\n",
        "Here are a handful of examples of other things you can do with Jupyter notebooks. This is just to illustrate the range of possibilities. It is by no means exhaustive!"
      ],
      "metadata": {
        "id": "E9FnJZTpKcVd"
      }
    },
    {
      "cell_type": "markdown",
      "source": [
        "## Crunch Numbers\n",
        "\n",
        "Jupyter notebooks provide full access to Python, which has enormously powerful tools for doing calculations. For example:"
      ],
      "metadata": {
        "id": "eZIXma6TLD4P"
      }
    },
    {
      "cell_type": "code",
      "source": [
        "# Lehigh has 5451 undergraduates and 1812 graduate students.\n",
        "# How many students does Lehigh have in total?\n",
        "# (Source: https://www1.lehigh.edu/about/university-statistics)\n",
        "5451 + 1812"
      ],
      "metadata": {
        "id": "1YKUvcIRNUv2"
      },
      "execution_count": null,
      "outputs": []
    },
    {
      "cell_type": "markdown",
      "source": [
        "(Don't forget to run each code cell!)"
      ],
      "metadata": {
        "id": "oaBrqFkDSpQ-"
      }
    },
    {
      "cell_type": "code",
      "source": [
        "# Lehigh class of 2020 had 1528 students. 95% of them are employed, continuing \n",
        "# education or pursuing military or volunteer service.\n",
        "# How many students is this?\n",
        "# (Use * for multiplication, / for divide.)\n",
        "1528 * 0.95"
      ],
      "metadata": {
        "id": "burbOsWWNnih"
      },
      "execution_count": null,
      "outputs": []
    },
    {
      "cell_type": "code",
      "source": [
        "# Average high temperature on Lehigh commencement day is 74°F. \n",
        "# What is this in Celcius?\n",
        "(74 - 32) * 5 / 9"
      ],
      "metadata": {
        "id": "eZiEIT98TtVD"
      },
      "execution_count": null,
      "outputs": []
    },
    {
      "cell_type": "markdown",
      "source": [
        "\n",
        "\n",
        "For some mathematical tasks, we need to use Python **packages**. (A package is a collection of code written by other people that we can use in our own code.) We first have to **import** the package, then we can use it. One useful package is called `math`."
      ],
      "metadata": {
        "id": "sMpdFPCtNgH3"
      }
    },
    {
      "cell_type": "code",
      "source": [
        "import math\n",
        "\n",
        "# Side of a square whose area is 90.\n",
        "math.sqrt(90)"
      ],
      "metadata": {
        "id": "eFdEI77aQi7v"
      },
      "execution_count": null,
      "outputs": []
    },
    {
      "cell_type": "code",
      "source": [
        "# Cosine of π/4.\n",
        "math.cos(math.pi / 4)\n",
        "\n",
        "# (Once we import a package, we don't have to import it again until we restart \n",
        "# the notebook.)"
      ],
      "metadata": {
        "id": "pftdjDtYSORt"
      },
      "execution_count": null,
      "outputs": []
    },
    {
      "cell_type": "markdown",
      "source": [
        "Often, it's convenient to store numbers in **variables** to use them again later:"
      ],
      "metadata": {
        "id": "OrAp3JXqiB5a"
      }
    },
    {
      "cell_type": "code",
      "source": [
        "# Calculate the sine of 60°. (Python's sin() function assumes the input is in\n",
        "# radians, not degrees. Fortunately, Python also has a function to convert\n",
        "# for us.)\n",
        "angle_in_deg = 60\n",
        "angle_in_rad = math.radians(angle_in_deg)\n",
        "math.sin(angle_in_rad)"
      ],
      "metadata": {
        "id": "iggZgyNxiHiW"
      },
      "execution_count": null,
      "outputs": []
    },
    {
      "cell_type": "markdown",
      "source": [
        "#### Questions\n",
        "\n",
        "**Question 1a**\n",
        "\n",
        "Lehigh has 5451 undergraduates and 552 full-time faculty. What is the student : faculty ratio?"
      ],
      "metadata": {
        "id": "dy0OFeUBV7o7"
      }
    },
    {
      "cell_type": "code",
      "source": [
        "# YOUR CODE HERE!\n",
        "..."
      ],
      "metadata": {
        "id": "6QPQyOerWoE3"
      },
      "execution_count": null,
      "outputs": []
    },
    {
      "cell_type": "markdown",
      "source": [
        "**Question 1b**\n",
        "\n",
        "Approximately 2015 of Lehigh's undergraduates are in CAS. What percentage of Lehigh undergraduates are in CAS?"
      ],
      "metadata": {
        "id": "E8YfBAbHXeaT"
      }
    },
    {
      "cell_type": "code",
      "source": [
        "# YOUR CODE HERE!\n",
        "..."
      ],
      "metadata": {
        "id": "T_nlVFe2XAVr"
      },
      "execution_count": null,
      "outputs": []
    },
    {
      "cell_type": "markdown",
      "source": [
        "**Question 1c**\n",
        "\n",
        "Calculate the square root of 40. "
      ],
      "metadata": {
        "id": "vZu0KxzxhZk4"
      }
    },
    {
      "cell_type": "code",
      "source": [
        "# YOUR CODE HERE!\n",
        "..."
      ],
      "metadata": {
        "id": "DzEyMzK1hqpk"
      },
      "execution_count": null,
      "outputs": []
    },
    {
      "cell_type": "markdown",
      "source": [
        "**Question 1d**\n",
        "\n",
        "Calculate the natural logarithm of 7. (Use the `math.log()` function.)"
      ],
      "metadata": {
        "id": "JjvDyriyhu1V"
      }
    },
    {
      "cell_type": "code",
      "source": [
        "# YOUR CODE HERE!\n",
        "..."
      ],
      "metadata": {
        "id": "_02YFRwLh-QC"
      },
      "execution_count": null,
      "outputs": []
    },
    {
      "cell_type": "markdown",
      "source": [
        "## Work with Datasets\n",
        "\n",
        "You can a load dataset from a URL or from your Google Drive, and work with it here in the notebook. We'll be doing lots of this during this course. \n",
        "\n",
        "Here's a quick example, in which we'll explore a dataset published by the city of Chicago that provides information about monthly ridership on the \"L\" (Chicago's public rail transit system) at each station. We'll use the `pandas` package, which is used for data handling. "
      ],
      "metadata": {
        "id": "Tkq8M6KkKt30"
      }
    },
    {
      "cell_type": "code",
      "source": [
        "# Import the pandas package (and abbreviate it as 'pd').\n",
        "import pandas as pd\n",
        "\n",
        "# Load the data from the city of Chicago data portal.\n",
        "rides = pd.read_csv('https://data.cityofchicago.org/resource/t2rn-p8d7.csv')\n",
        "\n",
        "# Display the first few lines of the table.\n",
        "rides.head()"
      ],
      "metadata": {
        "id": "8E50sjm1keuq"
      },
      "execution_count": null,
      "outputs": []
    },
    {
      "cell_type": "code",
      "source": [
        "# Get a summary of the data.\n",
        "rides.describe()"
      ],
      "metadata": {
        "id": "orOtmzn0Hs-Q"
      },
      "execution_count": null,
      "outputs": []
    },
    {
      "cell_type": "markdown",
      "source": [
        "From the summary we can see that, for example, on average, 89,448.7 riders use each station per month."
      ],
      "metadata": {
        "id": "K2odkcsDjpbz"
      }
    },
    {
      "cell_type": "code",
      "source": [
        "# Show all rows for Loyola station.\n",
        "rides[rides['stationame'] == 'Loyola']"
      ],
      "metadata": {
        "id": "oJ0noYs6MV4a"
      },
      "execution_count": null,
      "outputs": []
    },
    {
      "cell_type": "markdown",
      "source": [
        "So, for example, during the month of April, 2001, there were an average of 4878.9 rides per weekday."
      ],
      "metadata": {
        "id": "PnkNBRezMxv2"
      }
    },
    {
      "cell_type": "markdown",
      "source": [
        "#### Questions\n",
        "\n",
        "Use the code above as a guide to answer the questions below.\n",
        "\n",
        "**Question 2a**\n",
        "\n",
        "Load the \"Average Daily Traffic Counts\" dataset from the city of Chicago data portal at https://data.cityofchicago.org/resource/pfsx-4n4m.csv. (The dataset contains manual counts of cars passing specific locations, taken in 2006.) Display the first few lines of the table."
      ],
      "metadata": {
        "id": "mOkrZ_vjNGiy"
      }
    },
    {
      "cell_type": "code",
      "source": [
        "# YOUR CODE HERE!\n",
        "..."
      ],
      "metadata": {
        "id": "9eu-4KgPNkeQ"
      },
      "execution_count": null,
      "outputs": []
    },
    {
      "cell_type": "markdown",
      "source": [
        "**Question 2b**\n",
        "\n",
        "Display a summary of the data."
      ],
      "metadata": {
        "id": "C54-thPHNvt-"
      }
    },
    {
      "cell_type": "code",
      "source": [
        "# YOUR CODE HERE!\n",
        "..."
      ],
      "metadata": {
        "id": "Oq_20_zjN3bp"
      },
      "execution_count": null,
      "outputs": []
    },
    {
      "cell_type": "markdown",
      "source": [
        "**Question 2c**\n",
        "\n",
        "What is the average \"total passing vehicle volume\" across all measurements? What is the smallest traffic volume measured? The largest?"
      ],
      "metadata": {
        "id": "MmcWIwGsN8w5"
      }
    },
    {
      "cell_type": "markdown",
      "source": [
        "**Answer:** *YOUR ANSWER HERE*"
      ],
      "metadata": {
        "id": "KBv4pLmAOVu4"
      }
    },
    {
      "cell_type": "markdown",
      "source": [
        "**Question 2d**\n",
        "\n",
        "Display all the rows for measurements taken on Homan Ave (i.e., all rows in which the `street` column equals `Homan Ave`)."
      ],
      "metadata": {
        "id": "Liv9JkBZOqK1"
      }
    },
    {
      "cell_type": "code",
      "source": [
        "# YOUR CODE HERE!\n",
        "..."
      ],
      "metadata": {
        "id": "12BQR6YOSWjs"
      },
      "execution_count": null,
      "outputs": []
    },
    {
      "cell_type": "markdown",
      "source": [
        "**Question 2e**\n",
        "\n",
        "What address on Homan Ave had the largest traffic count, and what was the count?"
      ],
      "metadata": {
        "id": "79Fqu4HRUY2_"
      }
    },
    {
      "cell_type": "markdown",
      "source": [
        "**Answer:** *YOUR ANSWER HERE*"
      ],
      "metadata": {
        "id": "oqytrk5CUiRB"
      }
    },
    {
      "cell_type": "markdown",
      "source": [
        "## Visualize Data\n",
        "\n",
        "Data visualization has become increasingly important in using data to understand the world, communicate narratives, and advocate for change. Python includes many tools for data visualization, most of which can be used within Jupyter notebooks. Here's an example, which uses the data from the FiveThirtyEight story \"[Comic Books Are Still Made By Men, For Men And About Men](https://fivethirtyeight.com/features/women-in-comic-books/).\" (FiveThirtyEight, like many other news outlets, makes its data publicly available on the code-sharing site GitHub.) The dataset we'll use lists all DC Comics characters introduced between 1935 and 2014, including each character's gender and other characteristics, the year they were introduced, and the number of appearances of the character in comic books."
      ],
      "metadata": {
        "id": "DhMCnKDIMmQN"
      }
    },
    {
      "cell_type": "code",
      "source": [
        "# Read the dataset and display the first few lines.\n",
        "dc = pd.read_csv('https://raw.githubusercontent.com/fivethirtyeight/data/master/comic-characters/dc-wikia-data.csv')\n",
        "dc.head()"
      ],
      "metadata": {
        "id": "HY_3pkLRh6yp"
      },
      "execution_count": null,
      "outputs": []
    },
    {
      "cell_type": "code",
      "source": [
        "# Create a histogram showing the number of characters introduced each year,\n",
        "# like the first figure in the article.\n",
        "# (Might as well use the built-in FiveThirtyEight style, too!)\n",
        "import matplotlib as mpl\n",
        "mpl.style.use('fivethirtyeight')\n",
        "hist = dc.hist('YEAR', bins=79)"
      ],
      "metadata": {
        "id": "Rm5uY0fOi5vH"
      },
      "execution_count": null,
      "outputs": []
    },
    {
      "cell_type": "code",
      "source": [
        "# Create a scatter plot showing the number of appearances of each character\n",
        "# versus the year the character was introduced.\n",
        "scatter = dc.plot.scatter(x='YEAR', y='APPEARANCES')"
      ],
      "metadata": {
        "id": "jWu0dOuWk5Qp"
      },
      "execution_count": null,
      "outputs": []
    },
    {
      "cell_type": "markdown",
      "source": [
        "#### Questions\n",
        "\n",
        "Use the code above as a guide to answer the questions below.\n",
        "\n",
        "**Question 3a**\n",
        "\n",
        "Load the data from the FiveThirtyEight story \"Our Guide To The Exuberant Nonsense Of College Fight Songs\" from the FiveThirtyEight GitHub repository at https://raw.githubusercontent.com/fivethirtyeight/data/master/fight-songs/fight-songs.csv. (The dataset contains data on the fight songs from schools in the Power Five conferences, including when it was written and by whom, and the tempo and duration of the song.) Display the first few lines of the table."
      ],
      "metadata": {
        "id": "Oh635_dDn-wd"
      }
    },
    {
      "cell_type": "code",
      "source": [
        "# YOUR CODE HERE!\n",
        "..."
      ],
      "metadata": {
        "id": "A3FR8dwgpROs"
      },
      "execution_count": null,
      "outputs": []
    },
    {
      "cell_type": "markdown",
      "source": [
        "**Question 3b**\n",
        "\n",
        "The `number_fights` column indicates the number of times the song says \"fight.\" Create a histogram that shows the number of songs with each number of \"fights.\" (Set `bins=18`.)"
      ],
      "metadata": {
        "id": "CvW7VGmcphuh"
      }
    },
    {
      "cell_type": "code",
      "source": [
        "# YOUR CODE HERE!\n",
        "..."
      ],
      "metadata": {
        "id": "IdUmPusxpv56"
      },
      "execution_count": null,
      "outputs": []
    },
    {
      "cell_type": "markdown",
      "source": [
        "**Question 3c**\n",
        "\n",
        "Create a scatter plot showing the beats per minute of each song (`bpm`) versus the duration of the song in seconds (`sec_duration`). (This is a simpler version of the figure in the article.)"
      ],
      "metadata": {
        "id": "QZx5GZLxrJp1"
      }
    },
    {
      "cell_type": "code",
      "source": [
        "# YOUR CODE HERE!\n",
        "..."
      ],
      "metadata": {
        "id": "QNUhn83zq3Se"
      },
      "execution_count": null,
      "outputs": []
    },
    {
      "cell_type": "markdown",
      "source": [
        "------\n",
        "\n",
        "# Notebooks in Practice\n",
        "\n",
        "Jupyter notebooks encourage exploration, allowing users to iteratively update code and document the results. Notebooks are great for exploring algorithms and data in an interactive way—interacting both with the code and with other users. \n",
        "\n",
        "Scientific papers—the primary means for communicating scientific research for centuries—are static documents that often use technical jargon, replace concrete ideas with abstract or symolic representations, and report the results of experiments but not the actual implementation or data. \n",
        "\n",
        "Notebooks foster transparency and encourage reproducibility. They are an effective way to supplement—or sometimes replace—static documents like scientific papers with interactive ones that provide the reader with all of the code and data necessary to reproduce the results, tinker with the approach, and build new experiments using the original ones as a starting point. In other words, Jupyter notebooks support the computational work of researchers from different fields, from astronomy to psychology to literature, and therefore enable new ways for researchers in very different domains to share research tools and methods, and to learn from one another.\n",
        "\n",
        "\n",
        "### Things to Think About\n",
        "\n",
        "As we mentioned above, notebooks are used to make programming easier to read by interleaving code with text and other media types. Just as literature allows for creativity and supports multiple interpretations, we can treat notebooks as a medium that lets us tell complex stories that incorporate programming. \n",
        "\n",
        "What does that imply about notebooks as a medium and about us as readers? Can you think of ways to incorporate Jupyter notebooks into social justice projects?\n",
        "\n",
        "(*You do not need to submit responses to these questions. These are for you to think about on your own.*)\n"
      ],
      "metadata": {
        "id": "S1O1Lh_ek25_"
      }
    },
    {
      "cell_type": "markdown",
      "source": [
        "---\n",
        "\n",
        "# How to Submit this Notebook\n",
        "\n",
        "* Please click the \"Share\" button at the top of the page. In the Share options:\n",
        "\n",
        "    * Under \"General Access\", change to \"Restricted\" (instead of \"Anyone with the link\").\n",
        "    * At the top, share it with Oumaima (ous219@lehigh.edu), Larry (lvs2@lehigh.edu), and Suzanne (sme6@lehigh.edu).\n",
        "    * Click \"Copy Link\".\n",
        "    * Click \"Done\".\n",
        "\n",
        "* Send a Slack DM to Oumaima with the link you copied.\n"
      ],
      "metadata": {
        "id": "sh2ifjEBMazI"
      }
    },
    {
      "cell_type": "code",
      "source": [],
      "metadata": {
        "id": "g3eVmxZucwo0"
      },
      "execution_count": null,
      "outputs": []
    }
  ]
}