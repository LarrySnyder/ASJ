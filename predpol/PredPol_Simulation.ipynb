{
  "nbformat": 4,
  "nbformat_minor": 0,
  "metadata": {
    "colab": {
      "provenance": [],
      "collapsed_sections": [],
      "authorship_tag": "ABX9TyMpr5aThMtdXwuPHUeXv8MZ",
      "include_colab_link": true
    },
    "kernelspec": {
      "name": "python3",
      "display_name": "Python 3"
    },
    "language_info": {
      "name": "python"
    }
  },
  "cells": [
    {
      "cell_type": "markdown",
      "metadata": {
        "id": "view-in-github",
        "colab_type": "text"
      },
      "source": [
        "<a href=\"https://colab.research.google.com/github/LarrySnyder/ASJ/blob/main/predpol/PredPol_Simulation.ipynb\" target=\"_parent\"><img src=\"https://colab.research.google.com/assets/colab-badge.svg\" alt=\"Open In Colab\"/></a>"
      ]
    },
    {
      "cell_type": "markdown",
      "source": [
        "# PredPol Simulation\n",
        "\n",
        "This file is read-only. To work with it, you first need to **save a copy to your Google Drive:**\n",
        "\n",
        "1. Go to the *File* menu. (The *File* menu inside the notebook, right below the filename—not the *File* menu in your browser, at the top of your screen.)\n",
        "2. Choose *Save a copy in Drive*. (Log in to your Google account, if necessary.) Feel free to move it to a different folder in your Drive, if you want.\n",
        "3. Colab should open up a new browser tab with your copy of the notebook. Double-click the filename at the top of the window and rename it `PredPol Simulation [your name(s)]`. \n",
        "4. Close the original read-only notebook in your browser.\n"
      ],
      "metadata": {
        "id": "0Pe1S-BmIoGX"
      }
    },
    {
      "cell_type": "markdown",
      "source": [
        "---\n",
        "> 👓 **Note:** This notebook is part of the *Algorithms and Social Justice* course at Lehigh University, Profs. Larry Snyder and Suzanne Edwards.\n",
        "---\n"
      ],
      "metadata": {
        "id": "SAAggBH3JSUc"
      }
    },
    {
      "cell_type": "markdown",
      "source": [
        "---\n",
        "> 📚 **References:** This notebook is adapted from the PredPol simulation code by Kristian Lum and William Isaac, available at https://github.com/arun-ramamurthy/pred-pol, which implements the experiment described in their paper \"[To Predict and Serve?](http://onlinelibrary.wiley.com/doi/10.1111/j.1740-9713.2016.00960.x/full),\" *Significance* 13(5), 14–19, 2016.\n",
        ">\n",
        ">The PredPol algorithm itself is described in a research paper by Mohler, et al., \"[Randomized Controlled Field Trials of Predictive Policing](https://www.jstor.org/stable/24740149),\" *Journal of the American Statistical Association* 110(512), 1399–1411, 2015. See also the errata noted by Lum and Isaac [here](https://github.com/arun-ramamurthy/pred-pol/raw/master/doc/Rederivation%20of%20Mohler%20et%20al.pdf).\n",
        "---\n",
        "\n"
      ],
      "metadata": {
        "id": "Hxb0b2QmIsAM"
      }
    },
    {
      "cell_type": "markdown",
      "source": [
        "## Introduction\n",
        "\n",
        "This notebook contains code to simulate the PredPol predictive policing algorithm and to run an experiment similar to the one described by Lum and Isaac in their paper cited above.\n",
        "\n",
        "In a nutshell, Lum and Isaac argue that, although drug crimes are spread quite evenly across a geographical area, PredPol tends to dispatch police to a small subset of areas, and that these areas are not representative of the population as a whole:\n",
        "\n",
        ">This suggests that while drug crimes exist\n",
        "everywhere, drug arrests tend to only occur in very specific locations – the police data appear to disproportionately represent crimes committed in areas with higher populations of non-white and low-income residents.\n",
        "\n",
        "They base their case study on Oakland, California. Because we do not know the *true* incidence of drug crimes in Oakland (or anywhere else), Lum and Isaac develop a **synthetic dataset** that approximates the incidence of illicit drug use in Oakland. (See p. 16 for more information.) This is the dataset we will use in this notebook.\n",
        "\n",
        "Here is the synthetic dataset of drug crimes as displayed in Figure 1(b) in Lum and Isaac:"
      ],
      "metadata": {
        "id": "wBuTZoHwJmCA"
      }
    },
    {
      "cell_type": "markdown",
      "source": [
        "<div>\n",
        "<img src=\"https://raw.githubusercontent.com/LarrySnyder/ASJ/main/predpol/images/LumIsaacFigure1b.png\" width=\"600\"/>\n",
        "</div>"
      ],
      "metadata": {
        "id": "JsH12yN_rHUe"
      }
    },
    {
      "cell_type": "markdown",
      "source": [
        "Each rectangle in the heatmap is a region of the city of Oakland (Lum and Isaac refer to these as **bins**). The PredPol algorithm uses historical data on the number of observed crimes in each bin, predicts the crime rates in each bin, and then decides which bins to dispatch police to (assuming police can be dispatched to a fixed number, say 20, of bins).\n",
        "\n",
        "Lum and Issac simulate the PredPol algorithm using this dataset. Their Figure 2(a) displays a heatmap of the number of times the PredPol algorithm dispatched police to each bin in their simulation:"
      ],
      "metadata": {
        "id": "xljTSbdirgz_"
      }
    },
    {
      "cell_type": "markdown",
      "source": [
        "<div>\n",
        "<img src=\"https://raw.githubusercontent.com/LarrySnyder/ASJ/main/predpol/images/LumIsaacFigure2a.png\" width=\"600\"/>\n",
        "</div>"
      ],
      "metadata": {
        "id": "mXsc5oN2sjLP"
      }
    },
    {
      "cell_type": "markdown",
      "source": [
        "(Note the difference in the distribution of crimes compared to the distribution of police dispatches.)\n",
        "\n",
        "In this notebook, we'll use Lum and Isaac's synthetic dataset of drug crimes in Oakland, but instead of plotting it on a map of Oakland, we'll plot it in a simple grid:"
      ],
      "metadata": {
        "id": "LTxSaP7lsqHP"
      }
    },
    {
      "cell_type": "markdown",
      "source": [
        "<div>\n",
        "<img src=\"https://raw.githubusercontent.com/LarrySnyder/ASJ/main/predpol/images/sim_heatmap1.png\" width=\"400\"/>\n",
        "</div>"
      ],
      "metadata": {
        "id": "plpvFs6PtZFd"
      }
    },
    {
      "cell_type": "markdown",
      "source": [
        "That's because grids are way more fun, beautiful, and useful than maps. (Err...actually it's because I haven't yet learned how to do mapping in Python.)"
      ],
      "metadata": {
        "id": "Ddjawy-tuesg"
      }
    },
    {
      "cell_type": "markdown",
      "source": [
        "## Preliminaries\n",
        "\n",
        "### Importing Packages\n",
        "\n",
        "Next we'll import the Python packages that we'll need for our analysis.\n",
        "\n",
        "* `pandas` (pronounced like the animal) handles data\n",
        "* `numpy` (\"num-pie\") does numerical computations\n",
        "* `matplotlib` (\"mat-plot-libe\") and `seaborn` do graphing\n",
        "* `copy` has functions for copying data structures\n",
        "* `tqdm` is a progress bar"
      ],
      "metadata": {
        "id": "T46xC3HWKldw"
      }
    },
    {
      "cell_type": "code",
      "execution_count": null,
      "metadata": {
        "id": "uy_ltxgtIhX3"
      },
      "outputs": [],
      "source": [
        "import pandas as pd\n",
        "import numpy as np\n",
        "import matplotlib.pyplot as plt\n",
        "import seaborn as sns\n",
        "import copy\n",
        "from tqdm.notebook import tqdm"
      ]
    },
    {
      "cell_type": "markdown",
      "source": [
        "## The PredPol Algorithm"
      ],
      "metadata": {
        "id": "iXp2jsOhUGJK"
      }
    },
    {
      "cell_type": "markdown",
      "source": [
        "The code below implements the PredPol algorithm. You need to execute the cells, but then you can ignore them. In fact, if you want, you can \"collapse\" this section by clicking the little down-arrow next to the section title, to get it out of the way while you're working."
      ],
      "metadata": {
        "id": "bndRUPzcUy6X"
      }
    },
    {
      "cell_type": "code",
      "source": [
        "# Helper functions.\n",
        "\n",
        "def lower_tri_ij(dim):\n",
        "\tii, jj = np.tril_indices(dim)\n",
        "\tfor i, j in zip(ii, jj):\n",
        "\t\tyield i, j\n",
        "\n",
        "def lambdafun(t, mu, theta, omega):\n",
        "\tdays_til_last = [(t[-1] - ti).days for ti in t[:-1]]\n",
        "\tepart = sum([np.exp(-omega * d) for d in days_til_last])\n",
        "\treturn mu + theta * omega * epart\n",
        "\n",
        "def calc_tij(crime_data):\n",
        "\tassert all([len(n) > 0 for n in crime_data.values()])\n",
        "\ttij = dict()\n",
        "\tfor n, events in crime_data.items():\n",
        "\t\ttij_len = len(events) - 1\n",
        "\t\ttij[n] = np.zeros((tij_len, tij_len))\n",
        "\t\tfor i, j in lower_tri_ij(tij_len):\n",
        "\t\t\ttd = (events[i + 1] - events[j]).days\n",
        "\t\t\ttij[n][i, j] = td\n",
        "\treturn tij\n",
        "\n",
        "def calc_pij(tij, theta, omega):\n",
        "\tpij = dict()\n",
        "\tfor n in tij:\n",
        "\t\tpij[n] = np.zeros(tij[n].shape)\n",
        "\t\tfor i, j in lower_tri_ij(tij[n].shape[0]):\n",
        "\t\t\tif tij[n][i, j] > 0:\n",
        "\t\t\t\te_part = np.exp(-omega * tij[n][i, j])\n",
        "\t\t\t\tpij[n][i, j] = e_part * theta * omega\n",
        "\treturn pij"
      ],
      "metadata": {
        "id": "TK90u4WmU48K"
      },
      "execution_count": null,
      "outputs": []
    },
    {
      "cell_type": "code",
      "source": [
        "# Expectation step.\n",
        "def estep(crime_data, mu, theta, omega, tij):\n",
        "\t# these asserts are fast and document the common structure\n",
        "\tassert crime_data.keys() == mu.keys()\n",
        "\tassert crime_data.keys() == tij.keys()\n",
        "\tpj = dict()\n",
        "\tpij = calc_pij(tij, theta, omega)\n",
        "\tfor n in crime_data:\n",
        "\t\t# should possibly append a 1 to the front of this\n",
        "\t\tdenom = mu[n] + pij[n].sum(axis=1)\n",
        "\t\tpj[n] = mu[n] / denom\n",
        "\t\tpij[n] = pij[n] / denom\n",
        "\t\tpj[n] = np.append(pj[n], 1)\n",
        "\treturn pij, pj\n",
        "\n",
        "# Maximization step.\n",
        "def mstep(pij, pj, tij, crime_data, T):\n",
        "    # iterating over a dict means over keys unless otherwise specified\n",
        "\t# these asserts are fast and document the common structure\n",
        "\tassert crime_data.keys() == pij.keys()\n",
        "\tassert crime_data.keys() == tij.keys()\n",
        "\tassert crime_data.keys() == pj.keys()\n",
        "\ttotal_events = sum([len(v) for v in crime_data.values()])\n",
        "\t# double sum: arrays over bins; np.sum whole array at once\n",
        "\tsum_pijs = sum([np.sum(pij[n]) for n in pij])\n",
        "\tdenom = sum([np.sum(pij[n] * tij[n]) for n in pij])\n",
        "\tomega = sum_pijs / denom\n",
        "\ttheta = sum_pijs / total_events\n",
        "\tmu = dict((n, sum(pj[n]) / T) for n in pj)\n",
        "\t# mu = np.ones(num_bins)*sum(mu)  #this is what the paper says to do but\n",
        "\t# this forces the \"background rate\" to be the same everywhere,\n",
        "\treturn omega, theta, mu"
      ],
      "metadata": {
        "id": "2THaqhj4VCSu"
      },
      "execution_count": null,
      "outputs": []
    },
    {
      "cell_type": "code",
      "source": [
        "# Main PredPol function.\n",
        "def runEM(crime_data, T, pred_date, k=20,\n",
        "\t\t  theta_init=1, omega_init=1, mu_init=1,\n",
        "\t\t  tol1=.00001, tol2=.00001, tol3=.0001):\n",
        "\tnum_bins = len(crime_data)\n",
        "\ttheta = theta_init\n",
        "\tmu = dict((key, mu_init) for key in crime_data)\n",
        "\tomega = omega_init\n",
        "\tomega_last = 10 + omega\n",
        "\ttheta_last = 10 + theta\n",
        "\tmu_last = dict((key, mu_init + 10) for key in crime_data)\n",
        "\tk = min(num_bins, k)\n",
        "\ttij = calc_tij(crime_data)\n",
        "\n",
        "\twhile(abs(omega - omega_last) > tol1 and\n",
        "\t\t  abs(theta - theta_last) > tol2 and\n",
        "\t\t  sum([abs(mu[n] - mu_last[n]) for n in mu]) > tol3):\n",
        "\t\tomega_last = omega\n",
        "\t\ttheta_last = theta\n",
        "\t\tmu_last = copy.deepcopy(mu)\n",
        "\t\tpij, pj = estep(crime_data, mu, theta, omega, tij)\n",
        "\t\tomega, theta, mu = mstep(pij, pj, tij, crime_data, T)\n",
        "\n",
        "\t\tassert omega < T * 1000\n",
        "\n",
        "\t# get conditional intensity for selected parameters\n",
        "\t# need to add on latest date\n",
        "\tfor n in crime_data:\n",
        "\t\tcrime_data[n] = np.append(crime_data[n], pred_date)\n",
        "\n",
        "\t# Calculate rate for each bin.\n",
        "\trates = {n: lambdafun(crime_data[n], mu[n], theta, omega) for n in crime_data}\n",
        "\n",
        "\treturn rates, omega, theta"
      ],
      "metadata": {
        "id": "TQvPjBf6VZ7H"
      },
      "execution_count": null,
      "outputs": []
    },
    {
      "cell_type": "markdown",
      "source": [
        "## Plotting\n",
        "\n",
        "The next function plots heatmaps to visualize the results of the simulation. Again, execute the cell and then you can collapse this section. "
      ],
      "metadata": {
        "id": "99kaSz3-Vhlb"
      }
    },
    {
      "cell_type": "code",
      "source": [
        "def plot_heatmaps(observed_filepath, flagged_filepath, output_pdf_filepath=None):\n",
        "\t\"\"\"Plot heatmaps. Based on the results of a completed PredPol run.\"\"\"\n",
        "\n",
        "\t# Read CSV files.\n",
        "\tobserved_df = pd.read_csv(observed_filepath, index_col='bin')\n",
        "\tflagged_df = pd.read_csv(flagged_filepath, index_col='bin')\n",
        "\n",
        "\t# Get # of crimes in each bin.\n",
        "\tobserved_crimes = observed_df.sum(axis=1)\n",
        "\tobserved_crimes_array = np.array(list(observed_crimes))\n",
        "\n",
        "\t# Get # of times each bin is flagged.\n",
        "\tflags = flagged_df.sum(axis=1)\n",
        "\tflags_array = np.array(list(flags))\n",
        "\n",
        "\t# Get shortcut to # of columns.\n",
        "\tnum_cols = 20\n",
        "\n",
        "\t# Add 0s so that size of arrays are multiples of num_cols.\n",
        "\twhile len(observed_crimes_array) % num_cols != 0:\n",
        "\t\tobserved_crimes_array = np.append(observed_crimes_array, [0])\n",
        "\twhile len(flags_array) % num_cols != 0:\n",
        "\t\tflags_array = np.append(flags_array, [0])\n",
        "\n",
        "\t# Convert to 10-column numpy arrays.\n",
        "\tobserved_crimes_array = observed_crimes_array.reshape(-1, num_cols)\n",
        "\tflags_array = flags_array.reshape(-1, num_cols)\n",
        "\n",
        "\t# Build heatmaps.\n",
        "\tfig, axes = plt.subplots(1, 2)\n",
        "\tfig.set_figheight(5)\n",
        "\tfig.set_figwidth(12)\n",
        "\tsns.heatmap(observed_crimes_array, cmap='flare', ax=axes[0])\n",
        "\taxes[0].title.set_text('Observed Crimes')\n",
        "\tsns.heatmap(flags_array, cmap='flare', ax=axes[1])\n",
        "\taxes[1].title.set_text('# Times Flagged')\n",
        "\n",
        "\t# Title.\n",
        "\tfig.suptitle(f\"(total crimes observed: {observed_df.sum().sum()})\")\n",
        "\n",
        "\tif output_pdf_filepath:\n",
        "\t\tfig.savefig(output_pdf_filepath, bbox_inches='tight')\n",
        "\n",
        "\tplt.show()"
      ],
      "metadata": {
        "id": "qxZtnKwjWaFo"
      },
      "execution_count": null,
      "outputs": []
    },
    {
      "cell_type": "markdown",
      "source": [
        "## PredPol Simulation: Helper Functions\n",
        "\n",
        "The next few functions do some processing that is required for the simulation and the PredPol algorithm. Execute and collapse!"
      ],
      "metadata": {
        "id": "Qszd3J6bWe3e"
      }
    },
    {
      "cell_type": "code",
      "source": [
        "def load_predpol_data(options):\n",
        "\t\"\"\"Load crime data from CSV file at URL specified by `options`.\"\"\"\n",
        "\n",
        "\t# Read crime data. \n",
        "\tcrime_df = pd.read_csv(options[\"input_data_url\"])\n",
        "\t# Specify column names.\n",
        "\tcrime_df.columns = ['rownum', 'bin', 'date_occurred', 'LAG']\n",
        "\t# Drop rownum and 'LAG' columns.\n",
        "\tcrime_df = crime_df.drop(['rownum', 'LAG'], axis=1)\n",
        "\t# Remove rows with null bins.\n",
        "\tcrime_df = crime_df[pd.notnull(crime_df['bin'])]\n",
        "    # Format bins as integer.\n",
        "\tcrime_df['bin'] = crime_df['bin'].astype(int)\n",
        "\t# Format dates.\n",
        "\tcrime_df['date_occurred'] = pd.to_datetime(crime_df.date_occurred, format='%m/%d/%y')\n",
        "\n",
        "\treturn crime_df"
      ],
      "metadata": {
        "id": "LDYzaxmjW39v"
      },
      "execution_count": null,
      "outputs": []
    },
    {
      "cell_type": "code",
      "source": [
        "def prepare_data_for_predpol(crime_data, start_date, end_date):\n",
        "\t\"\"\"Prepare crime_data for PredPol simulation.\"\"\"\n",
        "\n",
        "\t# Remove records that are not in the desired time window.\n",
        "\tcrime_data = crime_data[(crime_data.date_occurred >= start_date) & (crime_data.date_occurred < end_date)]\n",
        "\n",
        "\t# Build output dict. (Keys are map bins, values are crime_data values.)\n",
        "\tpp_dict = dict((int(i), []) for i in set(crime_data.bin))\n",
        "\tfor i in crime_data.index:\n",
        "\t\tpp_dict[int(crime_data.bin[i])].append(crime_data['date_occurred'].loc[i])\n",
        "\n",
        "\t# Drop empty rows.\n",
        "\tkeys_to_drop = []\n",
        "\tpp_dict = {n: sorted(v) for n, v in pp_dict.items()}\n",
        "\tfor n in pp_dict.keys():\n",
        "\t\tif len(pp_dict[n]) < 1:\n",
        "\t\t\tkeys_to_drop.append(n)\n",
        "\tfor key in keys_to_drop:\n",
        "\t\tpp_dict.pop(key, None)\n",
        "\n",
        "\treturn pp_dict"
      ],
      "metadata": {
        "id": "VVJJWelpW1v8"
      },
      "execution_count": null,
      "outputs": []
    },
    {
      "cell_type": "code",
      "source": [
        "def get_empty_bin_dataframe(max_bin):\n",
        "\t\"\"\"Build an empty dataframe with index = 'bin' and indices from 1, ..., max_bin. \"\"\"\n",
        "\n",
        "\tdf = pd.DataFrame()\n",
        "\tdf['bin'] = range(1, max_bin + 1)\n",
        "\tdf = df.set_index(['bin'])\n",
        "\n",
        "\treturn df"
      ],
      "metadata": {
        "id": "lXb6aa25W7zh"
      },
      "execution_count": null,
      "outputs": []
    },
    {
      "cell_type": "code",
      "source": [
        "def add_column_to_bin_dataframe(df, bins, values, str_date):\n",
        "\t\"\"\"Add a column (in place) to `df`, with header `str_date`. For each bin in `bins`, the function\n",
        "\tsets its value equal to the corresponding value in `values`; all other values are set to 0. \n",
        "\t(`bins` and `values` must be lists of the same length.)\n",
        "\tThis function takes care of a few annoying aspects of adding the column, e.g., \n",
        "\thandling first column vs. subsequent ones.\"\"\"\n",
        "\ttemp_series = pd.DataFrame(0, index=df.index, columns=[str_date])\n",
        "\ttemp_series.loc[bins, str_date] = values\n",
        "\tif df.empty:\n",
        "\t\tdf[str_date] = list(temp_series[str_date])\n",
        "\telse:\n",
        "\t\tdf = pd.concat([df, temp_series], axis=1)\n",
        "\treturn df"
      ],
      "metadata": {
        "id": "PFzpW1IWW-Il"
      },
      "execution_count": null,
      "outputs": []
    },
    {
      "cell_type": "markdown",
      "source": [
        "## PredPol Simulation: Main Logic\n",
        "\n",
        "This section contains the main code for the PredPol simulation. The first function processes the data to feed into the PredPol algorithm and then calls the algorithm itself. It returns a variable called `rates`, which contains the crime rate predicted by PredPol for each bin."
      ],
      "metadata": {
        "id": "oVprz18ZXF3C"
      }
    },
    {
      "cell_type": "code",
      "source": [
        "def do_predpol_calculations(crime_data_df, flagged_df, window_start, window_end, options):\n",
        "\t\"\"\"Run PredPol algorithm. Return rates, as well as crime_data_df in case it\n",
        "\tchanged within this function.\"\"\"\n",
        "\n",
        "\t# Prepare data for PredPol calculations.\n",
        "\tpp_dict = prepare_data_for_predpol(crime_data_df, window_start, window_end)\n",
        "\n",
        "\t# Run PredPol calculations.\n",
        "\trates, _, _ = runEM(pp_dict, options[\"predpol_window\"], window_end)\n",
        "\n",
        "\treturn rates, crime_data_df"
      ],
      "metadata": {
        "id": "qOmg6HDmXyWW"
      },
      "execution_count": null,
      "outputs": []
    },
    {
      "cell_type": "markdown",
      "source": [
        "The next function takes as input the `rates` predicted by the PredPol algorithm and returns as output the bins that are flagged for increased police presence today. To decide which bins to flag, the function simply chooses the bins with the largest predicted rates, but you can change this code later, if you want, to try different methods."
      ],
      "metadata": {
        "id": "GOzgFZ8nX20r"
      }
    },
    {
      "cell_type": "code",
      "source": [
        "def choose_flagged_bins(rates, observed_crimes_df, num_flags=20):\n",
        "\t\"\"\"Choose which bins to flag, given the bins and their rates.\"\"\"\n",
        "\n",
        "\t# Sort rates.\n",
        "\tsorted_bins = sorted(rates, key=lambda x: rates[x], reverse=True)\n",
        "\tsorted_rates = [rates[b] for b in sorted_bins]\n",
        "\n",
        "\t# Choose the num_flags bins with the largest rates.\n",
        "\tflagged_bins = sorted_bins[0:num_flags]\n",
        "\n",
        "\treturn flagged_bins"
      ],
      "metadata": {
        "id": "XFOSWRGOYhdP"
      },
      "execution_count": null,
      "outputs": []
    },
    {
      "cell_type": "markdown",
      "source": [
        "Next, we have the main function for the simulation. This function does some preliminary processing, then iterates through the days of the simulation; on each day, it runs the PredPol algorithm, chooses which bins to send additional police to, adds 20% more crimes to those bins, and updates the data structures."
      ],
      "metadata": {
        "id": "4ddNAfB5YoaY"
      }
    },
    {
      "cell_type": "code",
      "source": [
        "def run_predpol_simulation(crime_data_df, options):\n",
        "\t\"\"\"Run the PredPol simulation.\"\"\"\n",
        "\n",
        "\t# Determine number of bins needed for dataframe.\n",
        "\tmax_bin = int(max(crime_data_df.bin))\n",
        "\n",
        "\t# Remove data that are not in the desired time window.\n",
        "\tcrime_data_df = crime_data_df[(crime_data_df.date_occurred >= options[\"simulation_start\"]) & (crime_data_df.date_occurred < options[\"simulation_end\"])]\n",
        "\n",
        "\t# Make a copy to serve as basline (just for record-keeping).\n",
        "\tbaseline_crimes_df = crime_data_df.copy(deep=True) \n",
        "\n",
        "\t# Determine number of days to simulate.\n",
        "\tnum_days = (options[\"simulation_end\"] - options[\"simulation_start\"]).days - options[\"predpol_window\"]\n",
        "\t\n",
        "\t# Initialize dataframe for PredPol rates, observed crimes, and whether a bin was flagged.\n",
        "\tpredpol_rates_df = get_empty_bin_dataframe(max_bin)\n",
        "\tobserved_crimes_df = get_empty_bin_dataframe(max_bin)\n",
        "\tflagged_df = get_empty_bin_dataframe(max_bin)\n",
        "\n",
        "\t# Initialize heatmap figure.\n",
        "\tfig = None\n",
        "\n",
        "\t# Initialize progress bar.\n",
        "\tpbar = tqdm(total=num_days)\n",
        "\n",
        "\t# Loop through days in simulation.\n",
        "\tfor i in range(num_days):\n",
        "\n",
        "\t\t# Update progress bar.\n",
        "\t\tpbar.update()\n",
        "\n",
        "\t\t# Determine dates of PredPol window.\n",
        "\t\twindow_start = options[\"simulation_start\"] + pd.DateOffset(i)\n",
        "\t\twindow_end = options[\"simulation_start\"] + pd.DateOffset(i + options[\"predpol_window\"])\n",
        "\n",
        "\t\t# Run PredPol.\n",
        "\t\trates, crime_data_df = do_predpol_calculations(crime_data_df, flagged_df, window_start, window_end, options)\n",
        "\n",
        "\t\t# Choose which bins to send police to.\n",
        "\t\tflagged_bins = choose_flagged_bins(rates, observed_crimes_df, options[\"num_flags\"])\n",
        "\n",
        "\t\t# Get today's baseline crimes.\n",
        "\t\tcrime_today = pd.value_counts(crime_data_df[crime_data_df.date_occurred==window_end].bin)\n",
        "\n",
        "\t\t# Save today's data.\n",
        "\t\tstr_date = str(window_end).split(' ')[0]\n",
        "\t\tpredpol_rates_df = add_column_to_bin_dataframe(predpol_rates_df, bins=list(rates.keys()), values=list(rates.values()), str_date=str_date)\n",
        "\t\tflagged_df = add_column_to_bin_dataframe(flagged_df, bins=flagged_bins, values=[1] * len(flagged_bins), str_date=str_date)\n",
        "\t\tobserved_crimes_df = add_column_to_bin_dataframe(observed_crimes_df, bins=crime_today.index, values=list(crime_today), str_date=str_date)\n",
        "\n",
        "\t\t# Remove old data from crime_data_df to speed things up.\n",
        "\t\tcrime_data_df = crime_data_df[(crime_data_df.date_occurred >= window_start)]\n",
        "\n",
        "\t# Close progress bar.\n",
        "\tpbar.close()\n",
        "\n",
        "\t# Write results to CSV.\n",
        "\tpredpol_rates_df.to_csv(options[\"rates_filename\"])\n",
        "\tflagged_df.to_csv(options[\"flagged_filename\"])\n",
        "\tbaseline_crimes_df.to_csv(options[\"baseline_crime_filename\"])\n",
        "\tobserved_crimes_df.to_csv(options[\"observed_crime_filename\"])"
      ],
      "metadata": {
        "id": "3onTrADAYn5P"
      },
      "execution_count": null,
      "outputs": []
    },
    {
      "cell_type": "markdown",
      "source": [
        "## Running the PredPol Simulation\n",
        "\n",
        "Finally, we can run the PredPol simulation. \n",
        "\n",
        "### Options\n",
        "\n",
        "First we'll specify various options for running the simulation."
      ],
      "metadata": {
        "id": "vLt-j2fwZVyt"
      }
    },
    {
      "cell_type": "code",
      "source": [
        "# Initialize the `options` dictionary.\n",
        "options = {}"
      ],
      "metadata": {
        "id": "cgAcPGi7aCYq"
      },
      "execution_count": null,
      "outputs": []
    },
    {
      "cell_type": "code",
      "source": [
        "# The URL of the comma-separated value (CSV) file containing the synthetic crime dataset.\n",
        "options[\"input_data_url\"] = \"https://raw.githubusercontent.com/LarrySnyder/ASJ/main/predpol/input/drug_crimes_with_bins.csv\""
      ],
      "metadata": {
        "id": "UO7BshxRZtam"
      },
      "execution_count": null,
      "outputs": []
    },
    {
      "cell_type": "code",
      "source": [
        "# Start and end dates for the simulation.\n",
        "# (Tip: Leave the start date set to 2010/07/01. For the full simulation, set\n",
        "# the end date to 2011/12/31. For a faster simulation (e.g., for debugging),\n",
        "# choose an earlier end date.)\n",
        "options[\"simulation_start\"] = pd.to_datetime(\"2010/07/01\")\n",
        "options[\"simulation_end\"] = pd.to_datetime(\"2011/12/31\")\t"
      ],
      "metadata": {
        "id": "aEqU1VCcmZ6F"
      },
      "execution_count": null,
      "outputs": []
    },
    {
      "cell_type": "code",
      "source": [
        "# Paths where we want to store the output files.\n",
        "options[\"baseline_crime_filename\"] = \"predpol_drug_baseline.csv\"\n",
        "options[\"observed_crime_filename\"] = \"predpol_drug_observed.csv\"\n",
        "options[\"rates_filename\"] = \"predpol_drug_rates.csv\"\n",
        "options[\"flagged_filename\"] = \"predpol_flagged.csv\"\n",
        "options[\"heatmap_filename\"] = \"heatmap.pdf\""
      ],
      "metadata": {
        "id": "lhpgJCRqmxU4"
      },
      "execution_count": null,
      "outputs": []
    },
    {
      "cell_type": "code",
      "source": [
        "# Prediction window for PredPol. This must be larger than the number of days\n",
        "# between the start and end times of the simulation.\n",
        "# (Lum and Isaac use 180, but the simulation is faster (though less accurate) \n",
        "# when we use a smaller window.)\n",
        "options[\"predpol_window\"] = 120"
      ],
      "metadata": {
        "id": "wbmvZAbonQlh"
      },
      "execution_count": null,
      "outputs": []
    },
    {
      "cell_type": "code",
      "source": [
        "# Number of bins to flag each day.\n",
        "options[\"num_flags\"] = 20"
      ],
      "metadata": {
        "id": "1mxxyeGZnJlp"
      },
      "execution_count": null,
      "outputs": []
    },
    {
      "cell_type": "markdown",
      "source": [
        "### Loading the Data\n",
        "\n",
        "Next, we'll load the data into a `pandas` dataframe (a structure for storing large amounts of data—like a spreadsheet or database)."
      ],
      "metadata": {
        "id": "3ALEU2u1n47c"
      }
    },
    {
      "cell_type": "code",
      "source": [
        "# Load the data.\n",
        "crime_df = load_predpol_data(options)"
      ],
      "metadata": {
        "id": "xtIwn-eLnptu"
      },
      "execution_count": null,
      "outputs": []
    },
    {
      "cell_type": "code",
      "source": [
        "# Print the head, i.e., the first batch of rows.\n",
        "crime_df.head()"
      ],
      "metadata": {
        "id": "u-A4VkqcoQ48"
      },
      "execution_count": null,
      "outputs": []
    },
    {
      "cell_type": "markdown",
      "source": [
        "The dataframe contains 2 columns:\n",
        "\n",
        "* `bin` contains the index of the bin where the crime was observed\n",
        "* `date_occurred` contains the date the crime was observed\n",
        "\n",
        "So, the 5 records displayed in the head indicate that 3 crimes were observed in bin 67 on January 8, 2012; and one crime each was observed in bins 219 and 424 on December 31, 2011.\n",
        "\n",
        "Let's interview the data a bit more:"
      ],
      "metadata": {
        "id": "O-pk2oLUoRix"
      }
    },
    {
      "cell_type": "code",
      "source": [
        "# How many total crimes are contained in the dataset?\n",
        "print(f\"Number of crimes contained in dataset = {len(crime_df)}\")"
      ],
      "metadata": {
        "id": "QqKBaI9ar736"
      },
      "execution_count": null,
      "outputs": []
    },
    {
      "cell_type": "code",
      "source": [
        "# How many bins are there? (The bins are indexed consecutively, so this\n",
        "# is the same as asking what is the largest bin index.)\n",
        "print(f\"Number of bins = {max(crime_df['bin'])}\")"
      ],
      "metadata": {
        "id": "Mv0747M0tAXw"
      },
      "execution_count": null,
      "outputs": []
    },
    {
      "cell_type": "code",
      "source": [
        "# Count the number of crimes (across all days) in each bin.\n",
        "crimes_per_bin = crime_df['bin'].value_counts()"
      ],
      "metadata": {
        "id": "gZe-kL_WRiC_"
      },
      "execution_count": null,
      "outputs": []
    },
    {
      "cell_type": "code",
      "source": [
        "# How many crimes were reported in bin 140 (across all days)?\n",
        "print(f\"Number of crimes in bin 140 = {crimes_per_bin[140]}\")"
      ],
      "metadata": {
        "id": "ppPOhgxvQ1KY"
      },
      "execution_count": null,
      "outputs": []
    },
    {
      "cell_type": "code",
      "source": [
        "# What's the largest number of crimes (across all days) in a single bin? \n",
        "print(f\"Largest number of crimes per bin = {max(crimes_per_bin)}\")"
      ],
      "metadata": {
        "id": "nXRh51CBvv4K"
      },
      "execution_count": null,
      "outputs": []
    },
    {
      "cell_type": "code",
      "source": [
        "# Plot a histogram of the number of crimes per bin.\n",
        "hist = crimes_per_bin.hist(bins=20)\n",
        "plt.xlabel('Number of crimes per bin')\n",
        "plt.ylabel('Number of bins');"
      ],
      "metadata": {
        "id": "kJuuzXuBtN9P"
      },
      "execution_count": null,
      "outputs": []
    },
    {
      "cell_type": "markdown",
      "source": [
        "From the histogram, we can see that most bins (>250 of them) have fewer than 50 or so crimes, while a few have many more; for example, one bin has roughly 600 crimes."
      ],
      "metadata": {
        "id": "PTqEewFEvSfS"
      }
    },
    {
      "cell_type": "markdown",
      "source": [
        "### Questions\n",
        "\n",
        "(Feel free to add code blocks as needed to answer these questions.)"
      ],
      "metadata": {
        "id": "9ttpg7TmRICD"
      }
    },
    {
      "cell_type": "markdown",
      "source": [
        "**Question 1a**\n",
        "\n",
        "How many crimes were reported in bin 42 (across all days)?"
      ],
      "metadata": {
        "id": "NUt8RIZkSOA-"
      }
    },
    {
      "cell_type": "markdown",
      "source": [
        "**Answer:** *YOUR ANSWER HERE*"
      ],
      "metadata": {
        "id": "z4JSj-pyRPfR"
      }
    },
    {
      "cell_type": "markdown",
      "source": [
        "**Question 1b**\n",
        "\n",
        "What is the smallest number of crimes (across all days) in a single bin?"
      ],
      "metadata": {
        "id": "2NuQ9exVRsX0"
      }
    },
    {
      "cell_type": "markdown",
      "source": [
        "**Answer:** *YOUR ANSWER HERE*"
      ],
      "metadata": {
        "id": "zRLVixDfRyq9"
      }
    },
    {
      "cell_type": "markdown",
      "source": [
        "**Question 1c (optional, bonus*)**\n",
        "\n",
        "(*No actual extra credit. But we'll be super proud of you.)\n",
        "\n",
        "Plot the total number of crimes on each day (across all bins). That is, plot a graph in which the x-axis indicates the days and the y-axis indicates the number of crimes on each day.\n",
        "\n",
        "*Hints*:\n",
        "\n",
        "* In the code above, we built an object (`crimes_per_bin`) that gives the total number of crimes in each bin (across all days). Could you instead build an object (maybe called `crimes_per_day`) that gives the total number of crimes on each day (across all bins)?\n",
        "* We built a histogram of the crimes per bin. A histogram tells you the total number of objects in each category (e.g., total number of bins with each crime count). Here, we don't want a histogram, we want a more straightforward plot. The `plot()` function in `pandas` can do this for you."
      ],
      "metadata": {
        "id": "Wn-qFDfoR4gD"
      }
    },
    {
      "cell_type": "markdown",
      "source": [
        "## Running the Simulation\n",
        "\n",
        "Next, we run the simulation. Depending on the `options` you have set, this might take a minute or two.\n",
        "\n",
        "*Hint*: If you want to run a faster simulation, try choosing an earlier date for `options[\"simulation_end\"]`. You won't be running the simulation for the whole dataset, but sometimes we need to run a \"toy\" version of the data while we're experimenting or testing, and before we run the full dataset."
      ],
      "metadata": {
        "id": "HdICliQgOt47"
      }
    },
    {
      "cell_type": "code",
      "source": [
        "# Run the simulation.\n",
        "run_predpol_simulation(crime_df, options)"
      ],
      "metadata": {
        "id": "uzQHmLFkOtqQ"
      },
      "execution_count": null,
      "outputs": []
    },
    {
      "cell_type": "markdown",
      "source": [
        "## Visualizing the Results"
      ],
      "metadata": {
        "id": "J4OL0CZkUlNa"
      }
    },
    {
      "cell_type": "code",
      "source": [
        "# Plot heatmaps to visualize the results.\n",
        "plot_heatmaps(\n",
        "    observed_filepath=options[\"observed_crime_filename\"],\n",
        "    flagged_filepath=options[\"flagged_filename\"],\n",
        "    output_pdf_filepath=options[\"heatmap_filename\"]\n",
        ")"
      ],
      "metadata": {
        "id": "fKFwwFHevSO3"
      },
      "execution_count": null,
      "outputs": []
    },
    {
      "cell_type": "markdown",
      "source": [
        "The first heatmap plots the number of observed crimes in each bin, which includes both the \"baseline\" crimes (those that would be observed regardless of where we send police) as well as the extra crimes that the police observe in the bins they are dispatched to.\n",
        "\n",
        "The second heatmap plots the number of times each bin is flagged, i.e., the number of times police are dispatched to each bin. \n",
        "\n",
        "(These heatmaps are analogous to Figures 1(b) and 2(a), respectively, in Lum and Isaac.)"
      ],
      "metadata": {
        "id": "9ddVr0X2Ura7"
      }
    },
    {
      "cell_type": "markdown",
      "source": [
        "### Questions"
      ],
      "metadata": {
        "id": "XQTHHuQDYcX4"
      }
    },
    {
      "cell_type": "markdown",
      "source": [
        "**Question 2**\n",
        "\n",
        "What conclusions do you draw from these two heatmaps? Does this policing strategy seem fair? Why or why not?"
      ],
      "metadata": {
        "id": "YdisUY8LYcYB"
      }
    },
    {
      "cell_type": "markdown",
      "source": [
        "**Answer:** *YOUR ANSWER HERE*"
      ],
      "metadata": {
        "id": "fboVdNy3YcYB"
      }
    },
    {
      "cell_type": "markdown",
      "source": [
        "**Question 3**\n",
        "\n",
        "Propose a different way to assign police to bins that you feel is more fair than the current strategy. Write a paragraph that discusses:\n",
        "\n",
        "* How you are defining \"fairness\" (perhaps in terms of the heatmaps, or other outputs of the model—your definition can be qualitative rather than quantitative if you wish)\n",
        "* What your strategy is\n",
        "* Why you feel your strategy will result in a more fair assignment of police to bins, under your definition of fairness\n",
        "\n",
        "*Important*: There is more than one way to answer this question! We're asking you to think critically and creatively here, not to lead you to some \"correct\" answer."
      ],
      "metadata": {
        "id": "brlXFZDMYzcO"
      }
    },
    {
      "cell_type": "markdown",
      "source": [
        "**Answer:** *YOUR ANSWER HERE*"
      ],
      "metadata": {
        "id": "cUYvN8r9YzcO"
      }
    },
    {
      "cell_type": "markdown",
      "source": [
        "**Question 4 (optional, mega bonus*)** \n",
        "\n",
        "(*See above.)\n",
        "\n",
        "Modify the simulation code above to implement your proposed dispatch strategy. (*Hint*: Your implementation should probably happen in the `choose_flagged_bins()` function.)\n",
        "\n",
        "We're here to help, if you need us!"
      ],
      "metadata": {
        "id": "EUWHn_6ZaasU"
      }
    },
    {
      "cell_type": "markdown",
      "source": [
        "**Answer:** *YOUR ANSWER HERE*"
      ],
      "metadata": {
        "id": "aPsHAHgjaasV"
      }
    },
    {
      "cell_type": "markdown",
      "source": [
        "---\n",
        "\n",
        "## How to Submit this Notebook\n",
        "\n",
        "* Please click the \"Share\" button at the top of the page. In the Share options:\n",
        "\n",
        "    * Under \"General Access\", change to \"Restricted\" (instead of \"Anyone with the link\").\n",
        "    * At the top, share it with Oumaima (ous219@lehigh.edu), Larry (lvs2@lehigh.edu), and Suzanne (sme6@lehigh.edu).\n",
        "    * Click \"Copy Link\".\n",
        "    * Click \"Done\".\n",
        "\n",
        "* Send a Slack DM to Oumaima, Larry, Suzanne, and your partner with the link you copied.\n"
      ],
      "metadata": {
        "id": "_uQmWJbXJdnt"
      }
    }
  ]
}