{
  "nbformat": 4,
  "nbformat_minor": 0,
  "metadata": {
    "colab": {
      "provenance": [],
      "collapsed_sections": [],
      "include_colab_link": true
    },
    "kernelspec": {
      "name": "python3",
      "display_name": "Python 3"
    },
    "language_info": {
      "name": "python"
    }
  },
  "cells": [
    {
      "cell_type": "markdown",
      "metadata": {
        "id": "view-in-github",
        "colab_type": "text"
      },
      "source": [
        "<a href=\"https://colab.research.google.com/github/LarrySnyder/ASJ/blob/main/compas/COMPAS_Part_2.ipynb\" target=\"_parent\"><img src=\"https://colab.research.google.com/assets/colab-badge.svg\" alt=\"Open In Colab\"/></a>"
      ]
    },
    {
      "cell_type": "markdown",
      "source": [
        "# COMPAS—Part 2\n",
        "\n",
        "This file is read-only. To work with it, you first need to **save a copy to your Google Drive:**\n",
        "\n",
        "1. Go to the *File* menu. (The *File* menu inside the notebook, right below the filename—not the *File* menu in your browser, at the top of your screen.)\n",
        "2. Choose *Save a copy in Drive*. (Log in to your Google account, if necessary.) Feel free to move it to a different folder in your Drive, if you want.\n",
        "3. Colab should open up a new browser tab with your copy of the notebook. Double-click the filename at the top of the window and rename it `COMPAS [your name(s)]`. \n",
        "4. Close the original read-only notebook in your browser.\n"
      ],
      "metadata": {
        "id": "pdAvxkGROQfE"
      }
    },
    {
      "cell_type": "markdown",
      "source": [
        "---\n",
        "> 👓 **Note:** This notebook is part of the *Algorithms and Social Justice* course at Lehigh University, Profs. Larry Snyder and Suzanne Edwards.\n",
        "---\n"
      ],
      "metadata": {
        "id": "n92vqZCZOWyE"
      }
    },
    {
      "cell_type": "code",
      "source": [
        "import pandas as pd\n",
        "import seaborn as sns\n",
        "import matplotlib.pyplot as plt\n",
        "from sklearn.metrics import confusion_matrix, roc_curve, roc_auc_score\n",
        "from sklearn import tree, preprocessing"
      ],
      "metadata": {
        "id": "0kfJYCUkTMo3"
      },
      "execution_count": null,
      "outputs": []
    },
    {
      "cell_type": "markdown",
      "source": [
        "## Previously On ...\n",
        "\n",
        "In the first COMPAS notebook, you loaded and filtered the data..."
      ],
      "metadata": {
        "id": "leO1SRVWS5hK"
      }
    },
    {
      "cell_type": "code",
      "source": [
        "data = pd.read_csv('https://raw.githubusercontent.com/propublica/compas-analysis/master/compas-scores-two-years.csv',\n",
        "                   usecols=[\"age\", \"c_charge_degree\", \"race\", \"age_cat\", \"score_text\", \"sex\", \"priors_count\", \n",
        "                    \"days_b_screening_arrest\", \"decile_score\", \"is_recid\", \"two_year_recid\", \"c_jail_in\", \"c_jail_out\"])\n",
        "pp_data = data.query('days_b_screening_arrest <= 30 & days_b_screening_arrest >= -30')\n",
        "pp_data = pp_data.query('race == \"Caucasian\" | race == \"African-American\"')"
      ],
      "metadata": {
        "id": "w0gLL244TISH"
      },
      "execution_count": null,
      "outputs": []
    },
    {
      "cell_type": "markdown",
      "source": [
        "...built a histogram to visualize COMPAS scores for Black and white defendants..."
      ],
      "metadata": {
        "id": "UtvPxwp9TbMh"
      }
    },
    {
      "cell_type": "code",
      "source": [
        "sns.histplot(pp_data[pp_data[\"race\"] == \"African-American\"], x=\"decile_score\", discrete=True, color='orange', alpha=0.5)\n",
        "sns.histplot(pp_data[pp_data[\"race\"] == \"Caucasian\"], x=\"decile_score\", discrete=True, alpha=0.5)\n",
        "plt.legend(labels=[\"Black\", \"white\"]);"
      ],
      "metadata": {
        "id": "3bISlHOFTawh",
        "outputId": "5a2dc2e1-fbe8-424e-88c7-54c620e4607e",
        "colab": {
          "base_uri": "https://localhost:8080/",
          "height": 280
        }
      },
      "execution_count": null,
      "outputs": [
        {
          "output_type": "display_data",
          "data": {
            "text/plain": [
              "<Figure size 432x288 with 1 Axes>"
            ],
            "image/png": "[encoded data removed]"
          },
          "metadata": {
            "needs_background": "light"
          }
        }
      ]
    },
    {
      "cell_type": "markdown",
      "source": [
        "...added a column specifying the COMPAS prediction (predict \"will recidivate\" if COMPAS score > 4, otherwise predict \"won't recidivate\")..."
      ],
      "metadata": {
        "id": "5gxUuq-hTy9_"
      }
    },
    {
      "cell_type": "code",
      "source": [
        "threshold = 4\n",
        "pp_data['COMPAS_prediction'] = 1 * (pp_data['decile_score'] > threshold)"
      ],
      "metadata": {
        "id": "xT2B943CTjL0"
      },
      "execution_count": null,
      "outputs": []
    },
    {
      "cell_type": "markdown",
      "source": [
        "...showed that the accuracy is similar for Black and white defendants..."
      ],
      "metadata": {
        "id": "X1p2hKn-hCq6"
      }
    },
    {
      "cell_type": "code",
      "source": [
        "pp_data_black = pp_data[pp_data['race'] == 'African-American']\n",
        "correct_predictions_black = pp_data_black[pp_data_black['two_year_recid'] == pp_data_black['COMPAS_prediction']]\n",
        "accuracy_black = len(correct_predictions_black) / len(pp_data_black)\n",
        "print(f\"For Black defendants: accuracy = {accuracy_black:.4f}\")\n",
        "pp_data_white = pp_data[pp_data['race'] == 'Caucasian']\n",
        "correct_predictions_white = pp_data_white[pp_data_white['two_year_recid'] == pp_data_white['COMPAS_prediction']]\n",
        "accuracy_white = len(correct_predictions_white) / len(pp_data_white)\n",
        "print(f\"For white defendants: accuracy = {accuracy_white:.4f}\")"
      ],
      "metadata": {
        "id": "ss7rfWtohGRg",
        "outputId": "b2af1824-0977-428c-9e72-588e1b0c1c37",
        "colab": {
          "base_uri": "https://localhost:8080/"
        }
      },
      "execution_count": null,
      "outputs": [
        {
          "output_type": "stream",
          "name": "stdout",
          "text": [
            "For Black defendants: accuracy = 0.6491\n",
            "For white defendants: accuracy = 0.6719\n"
          ]
        }
      ]
    },
    {
      "cell_type": "markdown",
      "source": [
        "...and calculated the FPR and FNR for Black and white defendants:"
      ],
      "metadata": {
        "id": "iF8XCy6cUI3m"
      }
    },
    {
      "cell_type": "code",
      "source": [
        "TN_black, FP_black, FN_black, TP_black = confusion_matrix(pp_data_black['two_year_recid'], pp_data_black['COMPAS_prediction']).ravel()\n",
        "FPR_black = FP_black / (FP_black + TN_black)\n",
        "FNR_black = FN_black / (TP_black + FN_black)\n",
        "print(f\"For Black defendants: FPR = {FPR_black:.4f}, FNR = {FNR_black:.4f}\")\n",
        "TN_white, FP_white, FN_white, TP_white = confusion_matrix(pp_data_white['two_year_recid'], pp_data_white['COMPAS_prediction']).ravel()\n",
        "FPR_white = FP_white / (FP_white + TN_white)\n",
        "FNR_white = FN_white / (TP_white + FN_white)\n",
        "print(f\"For white defendants: FPR = {FPR_white:.4f}, FNR = {FNR_white:.4f}\")"
      ],
      "metadata": {
        "id": "DYM0P27LT-UK",
        "outputId": "32caa226-401a-4852-b261-6e25504b7448",
        "colab": {
          "base_uri": "https://localhost:8080/"
        }
      },
      "execution_count": null,
      "outputs": [
        {
          "output_type": "stream",
          "name": "stdout",
          "text": [
            "For Black defendants: FPR = 0.4234, FNR = 0.2848\n",
            "For white defendants: FPR = 0.2201, FNR = 0.4964\n"
          ]
        }
      ]
    },
    {
      "cell_type": "markdown",
      "source": [
        "The FPR and FNR are very different for Black and white defendants, leading ProPublica (and you?) to conclude that COMPAS is racially biased. \n",
        "\n",
        "ProPublica is using a definition of fairness called **Equalized Odds,** which says that the TPR is equal for both groups, and so is the FPR. COMPAS fails the equalized odds test."
      ],
      "metadata": {
        "id": "-wFn92TUZ3sV"
      }
    },
    {
      "cell_type": "markdown",
      "source": [
        "In the first notebook, you also built the ROC curve for COMPAS:"
      ],
      "metadata": {
        "id": "uTMZgXcuVVS8"
      }
    },
    {
      "cell_type": "code",
      "source": [
        "FPR, TPR, _ = roc_curve(pp_data['two_year_recid'], pp_data['decile_score'])\n",
        "AUC = roc_auc_score(pp_data['two_year_recid'], pp_data['decile_score'])\n",
        "plt.plot(FPR, TPR)\n",
        "plt.plot([(0, 0), (1, 1)], 'r--')\n",
        "plt.xlabel('FPR')\n",
        "plt.ylabel('TPR')\n",
        "plt.title(f'ROC Curve: COMPAS\\n AUC: {AUC:.4f}');"
      ],
      "metadata": {
        "id": "CwctN5z7UVE0",
        "outputId": "d4447608-63da-4050-f9af-733f1eb10340",
        "colab": {
          "base_uri": "https://localhost:8080/",
          "height": 310
        }
      },
      "execution_count": null,
      "outputs": [
        {
          "output_type": "display_data",
          "data": {
            "text/plain": [
              "<Figure size 432x288 with 1 Axes>"
            ],
            "image/png": "[encoded data removed]"
          },
          "metadata": {
            "needs_background": "light"
          }
        }
      ]
    },
    {
      "cell_type": "markdown",
      "source": [
        "---\n",
        "> 🤓 **Nerd detail:** The `, _` is sort of funny in this line:\n",
        ">\n",
        "> ```\n",
        "FPR, TPR, _ = roc_curve(pp_data['two_year_recid'], pp_data['decile_score'])\n",
        "```\n",
        ">\n",
        "> What's happening here is that the function `roc_curve()` returns three values, but we only care about the first two of them. We can't just write\n",
        ">\n",
        "> ```\n",
        "FPR, TPR = roc_curve(pp_data['two_year_recid'], pp_data['decile_score'])\n",
        "```\n",
        "> because Python won't let us squeeze three values into two variables. But we can use `_` in the third slot, which just means \"throw this value away.\"\n",
        "---"
      ],
      "metadata": {
        "id": "-eWPeIVxj01z"
      }
    },
    {
      "cell_type": "markdown",
      "source": [
        "### Goals for This Notebook\n",
        "\n",
        "In this notebook, we have two main goals:\n",
        "* Examine the fairness argument made by Northpointe (the company that makes COMPAS, now called Equivant) \n",
        "* Discuss the concept of _explainable_ models"
      ],
      "metadata": {
        "id": "7IsngprZVfez"
      }
    },
    {
      "cell_type": "markdown",
      "source": [
        "### Reminder of Key Metrics\n",
        "\n",
        "Recall the **confusion matrix:**\n",
        "\n",
        "<center>\n",
        "\n",
        "|                     | Predicted Positive | Predicted Negative |\n",
        "|---------------------|--------------------|--------------------|\n",
        "| **Actual Positive** | TP                 | FN                 |\n",
        "| **Actual Negative** | FP                 | TN                 |\n",
        "\n",
        "</center>\n",
        "\n",
        "In the confusion matrix,\n",
        "- TP = true positive = actual positives that the model predicted are positive\n",
        "- FN = false negative = actual positives that the model predicted are negative\n",
        "- FP = false positive = actual negatives that the model predicted are positive\n",
        "- TN = true negative = actual negatives that the model predicted are negative\n",
        "\n",
        "The **accuracy** of a model is the total proportion (percentage) of individuals that are correctly classified:\n",
        "\n",
        "<p align=\"center\">accuracy = (TP + TN) / (TP + FN + FP + TN)</p>\n",
        "\n",
        "We also introduced the following metrics:\n",
        "- TPR = true positive rate = TP / (TP + FN) = fraction of actual positives that the model predicted are positive\n",
        "- FNR = false negative rate = FN / (TP + FN) = fraction of actual positive that the model predicted are negative\n",
        "- FPR = false positive rate = FP / (FP + TN) = fraction of actual negatives that the model predicted are positive\n",
        "- TNR = true positive rate = TN / (FP + TN) = fraction of actual negatives that the model predicted are not positive\n",
        "\n",
        "You can think of these as being \"row-based\" measures: They look at all individuals in a row (i.e., all actual positives or all actual negatives) and ask, \"Of all the individuals that are actually positive [or negative], what proportion did the model correctly predict are positive [or negative]?\"\n"
      ],
      "metadata": {
        "id": "nnguuC8adQhU"
      }
    },
    {
      "cell_type": "markdown",
      "source": [
        "---\n",
        "\n",
        "## Northpointe's Argument\n",
        "\n",
        "After ProPublica's [article](https://www.propublica.org/article/machine-bias-risk-assessments-in-criminal-sentencing) was published, Northpointe published a [rebuttal](https://go.volarisgroup.com/rs/430-MBX-989/images/ProPublica_Commentary_Final_070616.pdf), taking issues with many of ProPublica's arguments and presenting its own evidence that COMPAS is, in fact, fair.\n",
        "\n",
        "Northpointe argued for COMPAS's fairness using two main definitions of fairness:\n",
        "* Accuracy equity\n",
        "* Predictive parity\n",
        "\n",
        "We will explore each of these metrics next.\n"
      ],
      "metadata": {
        "id": "5mxkKXP-WH4o"
      }
    },
    {
      "cell_type": "markdown",
      "source": [
        "### Accuracy Equity\n",
        "\n",
        "Northpointe argued that the overall accuracy is similar for Black and white defendants. You already showed this is true in the previous notebook, and we recapped it in the earlier section of this one. If you need yet another recap:"
      ],
      "metadata": {
        "id": "5faHkRO_cT39"
      }
    },
    {
      "cell_type": "code",
      "source": [
        "print(f\"For Black defendants: accuracy = {accuracy_black:.4f}\")\n",
        "print(f\"For white defendants: accuracy = {accuracy_white:.4f}\")"
      ],
      "metadata": {
        "id": "HGk66hZfVb-_",
        "outputId": "e9577165-643f-4d76-f128-7a612b961c3a",
        "colab": {
          "base_uri": "https://localhost:8080/"
        }
      },
      "execution_count": null,
      "outputs": [
        {
          "output_type": "stream",
          "name": "stdout",
          "text": [
            "For Black defendants: accuracy = 0.6491\n",
            "For white defendants: accuracy = 0.6719\n"
          ]
        }
      ]
    },
    {
      "cell_type": "markdown",
      "source": [
        "Here, Northpointe is arguing that COMPAS exhibits **Accuracy Equity,** which says that the accuracy is the same for the two groups.\n",
        "\n",
        "Northpointe further argued that the **AUC** is similar for Black and white defendants. Recall that the **ROC** curve plots the TPR vs. the FPR for various thresholds, and the AUC is the area under that curve. In the first notebook (and earlier in this one), we plotted the ROC and calculated the AUC *for all defendants.*"
      ],
      "metadata": {
        "id": "17eYLimphzR3"
      }
    },
    {
      "cell_type": "markdown",
      "source": [
        "**Question 1**\n",
        "\n",
        "Plot the ROC curve for only Black defendants, and the ROC curve for only white defendants, on the same plot. Also calculate the AUC for only Black defendants and the AUC for only white defendants.\n",
        "\n",
        "You write the code to calculate \n",
        "* `FPR_black`, `TPR_black`, `AUC_black`, and\n",
        "* `FPR_white`, `TPR_white`, `AUC_white`, \n",
        "\n",
        "and I'll write the code to build the plot.\n",
        "\n",
        "*Hint*: Use the code above that calculates `FPR`, `TPR`, and `AUC`, but base your calculates on `pp_data_black` and `pp_data_white` instead of on `pp_data`."
      ],
      "metadata": {
        "id": "uphHcFoUiLC0"
      }
    },
    {
      "cell_type": "code",
      "source": [
        "# Your code here:\n",
        "FPR_black, TPR_black, _ = [...]\n",
        "AUC_black = [...]\n",
        "FPR_white, TPR_white, _ = [...]\n",
        "AUC_white = [...]\n",
        "\n",
        "# My code here:\n",
        "plt.plot(FPR_black, TPR_black)\n",
        "plt.plot(FPR_white, TPR_white)\n",
        "plt.plot([(0, 0), (1, 1)], 'r--')\n",
        "plt.xlabel('FPR')\n",
        "plt.ylabel('TPR')\n",
        "plt.legend(['Black', 'white'])\n",
        "plt.title(f'ROC Curve: COMPAS\\n AUC for Black defendants: {AUC_black:.4f}\\n AUC for white defendants: {AUC_white:.4f}');"
      ],
      "metadata": {
        "id": "2r8FitPYjmpI"
      },
      "execution_count": null,
      "outputs": []
    },
    {
      "cell_type": "markdown",
      "source": [
        "The ROC curves look quite similar, and the AUC values are quite similar, between Black and white defendants. Northepoint used this as further evidence that COMPAS does not show racial bias."
      ],
      "metadata": {
        "id": "ASvB9Ychkxt5"
      }
    },
    {
      "cell_type": "markdown",
      "source": [
        "### Predictive Parity"
      ],
      "metadata": {
        "id": "cbsU_ieJlzt4"
      }
    },
    {
      "cell_type": "markdown",
      "source": [
        "Here come two more accuracy metrics 😬:\n",
        "\n",
        "- PPV = positive predictive value = TP / (TP + FP) = fraction of predicted positives that are actually positive\n",
        "- NPV = negative predictive value = TN / (FN + TN) = fraction of predicted negatives that are actually negative\n",
        "\n",
        "Remember that TPR, FPR, etc. are \"row-based\" metrics: They look at all individuals in a row (i.e., all actual positives or all actual negatives) and ask, \"Of all the individuals that are actually positive [or negative], what proportion did the model correctly predict are positive [or negative]?\"\n",
        "\n",
        "In contrast, PPV and NPV are \"column-based\" metrics: They look at all individuals in a column (i.e., all predicted positives or all predicted negatives) and ask, \"Of all the individuals that the model predicted as positive [or negative], what proportion are actually positive [or negative]?\"\n",
        "\n",
        "Let's examine the PPV and NPV for Black and white defendants.\n"
      ],
      "metadata": {
        "id": "VnfOsc7vl--8"
      }
    },
    {
      "cell_type": "markdown",
      "source": [
        "**Question 2**\n",
        "\n",
        "Calculate the PPV and NPV for Black and white defendants. Store them in variables called `PPV_black`, `NPV_black`, `PPV_white`, and `NPV_white`.\n",
        "\n",
        "*Hint*: You have already calculated TN, FP, etc. for Black and white defendants. Use those variables."
      ],
      "metadata": {
        "id": "kIZqGfC1nUpo"
      }
    },
    {
      "cell_type": "code",
      "source": [
        "[...]"
      ],
      "metadata": {
        "id": "dx22dPTkroIK"
      },
      "execution_count": null,
      "outputs": []
    },
    {
      "cell_type": "markdown",
      "source": [
        "Northpointe points out that the PPV is similar for Black and white defendants, and so is the NPV—in fact, the PPV is even somewhat better for Black defendants. They use this to argue that COMPAS is fair. \n",
        "\n",
        "This is based on yet another definition of fairness, namely, **Predictive Parity,** which says that PPV is equal for the two groups, and so is NPV.\n",
        "\n",
        "Actually, Northpointe doesn't use PPV and NPV, they use 1 – PPV and 1 – NPV. (Mathematically, the two arguments are the same, because if PPV is equal for two groups, then so is 1 – PPV, and similarly for NPV.) In their rebuttal, they give the following table, which they claim is \"a corrected version of the table that [ProPublica] presented under the\n",
        "heading 'Prediction Fails Differently for Black Defendants.'\":\n",
        "\n",
        "<center><img src=\"https://github.com/LarrySnyder/ASJ/raw/main/compas/images/northpointe_table.png\" width=\"500\"/></center>\n",
        "\n",
        "Northpointe interprets \"labeled higher risk, but didn't re-offend\" as the percentage of people who were predicted \"positive\" (predicted to recidivate) but were actually negative, i.e., 1 – PPV.\n",
        "\n",
        "And they interpret \"labeled lower risk, yet did re-offend\" as the percentage of people who were predicted \"negative\" (predicted not to recidivate) but were actually positive, i.e., 1 – NPV.\n",
        "\n",
        "Let's recreate this table based on the variables you defined in Question 2."
      ],
      "metadata": {
        "id": "fi48T4ITpjtB"
      }
    },
    {
      "cell_type": "code",
      "source": [
        "from tabulate import tabulate\n",
        "table = [[\"Labeled Higher Risk, But Didn't Re-Offend\", \n",
        "            f\"{100*(1 - PPV_white):.0f}%\", \n",
        "            f\"{100*(1 - PPV_black):.0f}%\"],\n",
        "         [\"Labeled Lower Risk, Yet Did Re-Offend\", \n",
        "            f\"{100*(1 - NPV_white):.0f}%\", \n",
        "            f\"{100*(1 - NPV_black):.0f}%\"]]\n",
        "headers = [\"White\", \"African American\"]\n",
        "print(tabulate(table, headers=headers))"
      ],
      "metadata": {
        "id": "9grgk3S8owp1"
      },
      "execution_count": null,
      "outputs": []
    },
    {
      "cell_type": "markdown",
      "source": [
        "(Our numbers are a little different, again due to small differences in the way we processed and analyzed the data.)"
      ],
      "metadata": {
        "id": "-7Gd0rkMtvKC"
      }
    },
    {
      "cell_type": "markdown",
      "source": [
        "## How Can They Both Be Right?\n",
        "\n",
        "**ProPublica says:** FPR and FNR are different for different races; therefore COMPAS is unfair.\n",
        "\n",
        "**Northpoint says:** PPV and NPV are the same for different races; therefore COMPAS is fair.\n",
        "\n",
        "*How can they both be right?*\n",
        "\n",
        "In the best spirit of interdisciplinary learning, we'll give two answers, one based on language and one based on math."
      ],
      "metadata": {
        "id": "YLcNfTE8vjbc"
      }
    },
    {
      "cell_type": "markdown",
      "source": [
        "### Answer 1: Imprecise Language\n",
        "\n",
        "Recall ProPublica's famous table:\n",
        "\n",
        "<center><img src=\"https://github.com/LarrySnyder/ASJ/raw/main/compas/images/propublica_table.png\" width=\"500\"/></center>\n",
        "\n",
        "ProPublica's language here is imprecise. It's clear that \"labeled higher risk, but didn't re-offend\" is referring to false positives (FP) and that \"labeled lower risk, yet did re-offend\" is referring to false negatives (FN). \n",
        "\n",
        "But they are not reporting the *numbers* of FP and FN, they are reporting *percentages*, which means they need to divide by something. And the captions (\"Labeled Higher Risk...\") are not specific enough to tell us what to divide by.\n",
        "\n",
        "ProPublica used the **FPR and FNR**. That is, they divided by the numbers of **actual positives and negatives.** (Remember: FPR = FP / (FP + TN) and FNR = FN / (TP + FN).)\n",
        "\n",
        "Northpointe used **1 – PPV and 1 – NPV**. That is, they divided by the numbers of of **predicted positives and negatives.** (Remember: 1 – PPV = 1 – TP / (TP + FP) = FP / (TP + FP) and 1 – NPV = 1 – TN / (FN + TN) = FN / (FN + TN).)\n",
        "\n",
        "That's how Northpointe was able to produce a table with *exactly the same captions as ProPublica's* but with completely different results:\n",
        "\n",
        "<center><img src=\"https://github.com/LarrySnyder/ASJ/raw/main/compas/images/northpointe_table.png\" width=\"500\"/></center>"
      ],
      "metadata": {
        "id": "xTZ983ihwOsj"
      }
    },
    {
      "cell_type": "markdown",
      "source": [
        "### Answer 2: Mathematical Impossibility\n",
        "\n",
        "Remember the following two definitions of fairness:\n",
        "\n",
        "* **Equalized Odds:** TPR is equal for both groups, and so is FPR.\n",
        "* **Predictive Parity:** PPV is equal for both groups, and so is NPV. \n",
        "\n",
        "---\n",
        "> 👓 **Note:** When we say \"equal,\" we mean equal in a sort of statistical, expected-value sense. In practice, with real data, these metrics will not typically be equal. But if they are equal*ish*, we can say the model is fair*ish* with respect to equalized odds and/or predictive parity.\n",
        "---\n",
        "\n",
        "Using these terms, we can rephrase the two arguments as:\n",
        "\n",
        "**ProPublica says:** equalized odds **does not hold** for COMPAS; therefore COMPAS is unfair.\n",
        "\n",
        "**Northpoint says:** predictive parity **does hold** for COMPAS; therefore COMPAS is fair."
      ],
      "metadata": {
        "id": "OoRyJaSXzKkw"
      }
    },
    {
      "cell_type": "markdown",
      "source": [
        "It turns out that this is inevitable, from a mathematical point of view, due to the following **impossibility theorem:**\n",
        "\n",
        "> **Theorem.** Equalized odds and predictive parity cannot both hold for the same predictor, unless the predictor is *perfect* or the two groups have the *same base rate.*\n",
        "\n",
        "(This theorem was proved after, and largely in response to, the ProPublica–Northpointe debate. See [Chouldechova (2016)](https://arxiv.org/abs/1610.07524), [Kleinberg, et al. (2016)](https://arxiv.org/abs/1609.05807), and [Miconi (2017)](https://arxiv.org/abs/1707.01195).)\n",
        "\n",
        "By \"perfect,\" we mean the predictor gets it right 100% of the time. Few predictors are perfect. COMPAS certainly is not.\n",
        "\n",
        "By \"same base rate,\" we mean that the two groups have the same prevalence of the thing being predicted. In the case of COMPAS, this would mean that Black and white defendants have the same two-year-recidivism rate. \n",
        "\n",
        "The data tells us that this is not the case:"
      ],
      "metadata": {
        "id": "NsmSBpCj09HP"
      }
    },
    {
      "cell_type": "code",
      "source": [
        "did_recidivate_black = pp_data_black[pp_data_black['two_year_recid'] == 1]\n",
        "base_rate_black = len(did_recidivate_black) / len(pp_data_black)\n",
        "did_recidivate_white = pp_data_white[pp_data_white['two_year_recid'] == 1]\n",
        "base_rate_white = len(did_recidivate_white) / len(pp_data_white)\n",
        "print(f\"Proportion of Black defendants who recidivated = {base_rate_black:.4f}\")\n",
        "print(f\"Proportion of White defendants who recidivated = {base_rate_white:.4f}\")"
      ],
      "metadata": {
        "id": "JwjDtGOerufA"
      },
      "execution_count": null,
      "outputs": []
    },
    {
      "cell_type": "markdown",
      "source": [
        "The two base rates are not the same. Of course, this is not a surprise, for reasons we have already discussed in class: As [Michelle Alexander](https://newjimcrow.com/) has argued, the U.S. criminal justice system essentially criminalizes Blackness; and as [Cathy O'Neil](https://www.penguinrandomhouse.com/books/241363/weapons-of-math-destruction-by-cathy-oneil/) and others have argued, PredPol and other predictive policing algorithms ensure that Black communities are over-policed.\n",
        "\n",
        "So: no model is a perfect predictor, and different races have different base rates of recividism — hence, it is *mathematically impossible* for COMPAS or any other model to be fair in terms of both equalized odds and predictive parity."
      ],
      "metadata": {
        "id": "f9h6UfH53I7Y"
      }
    },
    {
      "cell_type": "markdown",
      "source": [
        "**Question 3**\n",
        "\n",
        "Does one of these fairness measures resonate with you more strongly? Does one seem \"fairer\" than the other? If you had to choose one for your model, which would you choose, and why?"
      ],
      "metadata": {
        "id": "Awv8_Qljb9Ms"
      }
    },
    {
      "cell_type": "markdown",
      "source": [
        "**Answer:** *YOUR ANSWER HERE*"
      ],
      "metadata": {
        "id": "tu3znH7zcOe1"
      }
    },
    {
      "cell_type": "markdown",
      "source": [
        "---\n",
        "\n",
        "## On Transparency (or Lack Thereof)\n",
        "\n",
        "There has been a lot of discussion in recent years about the fact that many machine learning (ML) and other models are *black boxes,* and therefore that they make it difficult for humans—even the humans who designed the algorithms—to understand what the model is doing, and why. Therefore, there has been a lot of research in the ML community to develop *explainable ML*, or to develop models that are *interpretable* in the first place. In this section, we'll explore these terms (black box, explainable, interpretable) in the context of COMPAS.\n",
        "\n",
        "Of course, being able to understand what a model is doing is important for fairness. Recall O'Neil's argument that *opacity* is one of the three hallmarks of a weapon of math destruction (WMD)."
      ],
      "metadata": {
        "id": "lyfwA-DQL-RG"
      }
    },
    {
      "cell_type": "markdown",
      "source": [
        "### Black Boxes, Explainability, and Interpretability\n",
        "\n",
        "In her [paper](https://www.nature.com/articles/s42256-019-0048-x) \"Stop explaining black box machine learning models for high stakes decisions and use interpretable models instead,\" Cynthia Rudin argues that there are two types of **black boxes:**\n",
        "\n",
        "> A black box model could be either (i) a function that is too complicated for any human to comprehend, or (ii) a function that is proprietary\n",
        "\n",
        "For example, deep learning models tend to be the first type of black boxes—even if we understand the structure of the algorithm, the calculations are so complicated that trying to trace the intuition behind the decisions being made at each iteration of the algorithm quickly becomes hopeless.\n",
        "\n",
        "On the other hand, COMPAS is the second kind of black box—we don't know what it's doing, simply because Northpointe won't tell us. They regard it as a trade secret. (It's possible that COMPAS is also the first type of black box. However, in [another paper](https://hdsr.mitpress.mit.edu/pub/7z10o269/release/7), Rudin provides evidence that it is probably not—it is probably a relatively simple model.)\n",
        "\n",
        "Rudin decries the recent trend toward **explainable ML:**\n",
        "\n",
        "> there has been a recent explosion of\n",
        "work on “Explainable ML,” where a second (posthoc) model is created to explain the first black box model. This is problematic. Explanations are often not reliable, and can be misleading\n",
        "\n",
        "In fact, she argues that ProPublica's attempts to recreate COMPAS's black box are incorrect, and that ProPublica draws incorrect conclusions as a result. But that's another story, which we won't get into here.\n",
        "\n",
        "Rudin argues that instead of trying to explain ML models, we should instead be using\n",
        "\n",
        "> models that are inherently interpretable, they provide their own explanations, which are faithful to what the model actually computes.\n",
        "\n",
        "In other words, an **interpretable** model is transparent from the get-go, whereas explainable ML tries to reverse-engineer intuition from a black box. \n",
        "\n",
        "In the rest of this notebook, we'll build an interpretable model to predict recidivism. We'll evaluate its accuracy and compare it to the black-box COMPAS model.\n"
      ],
      "metadata": {
        "id": "cxhTpRaVOvTh"
      }
    },
    {
      "cell_type": "markdown",
      "source": [
        "---\n",
        "> ⚠️ **Important:** In the first COMPAS notebook, you reproduced ProPublica's analysis of the COMPAS results. In the rest of this notebook, you'll instead be trying to replicate what COMPAS does—using characteristics of a defendant to predict whether they will recidivate—but using an interpretable model rather than a black box. In other words, you'll be building a competitor to COMPAS.\n",
        "---\n",
        "\n"
      ],
      "metadata": {
        "id": "Jfo13c9cTCbt"
      }
    },
    {
      "cell_type": "markdown",
      "source": [
        "### Recap: The \"Titanic\" Model\n",
        "\n",
        "In the next section, you will build a **decision tree** model to predict recidivism risk. Recall from the \"Titanic\" notebook that a decision tree is a type model that uses a series of \"branches\" (yes/no answers to questions about the data) to lead to a prediction. Because the decision tree is \"trained\" using data (that is, because the choices of which features to branch on is driven by data), decision trees are considered to be a type of ML model.\n",
        "\n",
        "Here's a quick recap of how we built the decision tree in the \"Titanic\" notebook.\n"
      ],
      "metadata": {
        "id": "DOwF1GDOTuGz"
      }
    },
    {
      "cell_type": "code",
      "source": [
        "# Load the data.\n",
        "train_url = \"https://raw.githubusercontent.com/datacamp/datacamp_facebook_live_titanic/master/data/train.csv\"\n",
        "train = pd.read_csv(train_url)"
      ],
      "metadata": {
        "id": "0fCaxFLRViDB"
      },
      "execution_count": null,
      "outputs": []
    },
    {
      "cell_type": "code",
      "source": [
        "# Clean the data.\n",
        "train[\"Age\"] = train[\"Age\"].fillna(train[\"Age\"].median())"
      ],
      "metadata": {
        "id": "SbcRqT9gVh6z"
      },
      "execution_count": null,
      "outputs": []
    },
    {
      "cell_type": "code",
      "source": [
        "# Convert \"Sex\" to a numeric value instead of text (because that's what the \n",
        "# algorithm requires).\n",
        "encoded_sex = preprocessing.LabelEncoder()\n",
        "train[\"Sex_numeric\"] = encoded_sex.fit_transform(train[\"Sex\"])"
      ],
      "metadata": {
        "id": "tBxIvB1WWH1c"
      },
      "execution_count": null,
      "outputs": []
    },
    {
      "cell_type": "code",
      "source": [
        "# Create arrays for the \"target\" (the outcome variable, i.e., value we are \n",
        "# trying to predict, in this case the \"Survived\" column) and the \"features\" \n",
        "# (the predictive variables, i.e., the values we are using to make the prediction,\n",
        "# in this case the fare class, sex, age, and fare).\n",
        "target = train[\"Survived\"].values\n",
        "feature_names = [\"Pclass\", \"Sex_numeric\", \"Age\", \"Fare\"]\n",
        "features = train[feature_names].values"
      ],
      "metadata": {
        "id": "eRbRXRSEVhzM"
      },
      "execution_count": null,
      "outputs": []
    },
    {
      "cell_type": "code",
      "source": [
        "# Create the decision tree and fit it.\n",
        "my_tree = tree.DecisionTreeClassifier(max_depth=2)\n",
        "my_tree = my_tree.fit(features, target)"
      ],
      "metadata": {
        "id": "fmGYQDHC257z"
      },
      "execution_count": null,
      "outputs": []
    },
    {
      "cell_type": "markdown",
      "source": [
        "*Note*: We didn't use the argument `max_depth=2` in the \"Titanic\" notebook, but we'll use it here. It keeps the tree smaller and more manageable."
      ],
      "metadata": {
        "id": "DDzyZSbNW3Zt"
      }
    },
    {
      "cell_type": "code",
      "source": [
        "# Draw a plot of the decision tree.\n",
        "plt.figure(figsize=(10, 10))\n",
        "tree.plot_tree(my_tree, feature_names=feature_names, class_names=[\"NO\", \"YES\"], max_depth=2, filled=True);"
      ],
      "metadata": {
        "id": "879lKdQoXHJ4"
      },
      "execution_count": null,
      "outputs": []
    },
    {
      "cell_type": "markdown",
      "source": [
        "Another way of visualizing the decision tree, instead of drawing it, is to have the decision tree list its decision rules in text form:"
      ],
      "metadata": {
        "id": "8iwjOQzdXV7F"
      }
    },
    {
      "cell_type": "code",
      "source": [
        "print(tree.export_text(my_tree, feature_names=feature_names))"
      ],
      "metadata": {
        "id": "cKGa3qhmXcwf"
      },
      "execution_count": null,
      "outputs": []
    },
    {
      "cell_type": "markdown",
      "source": [
        "Both of these outputs tell us the same thing; they translate to the following rules, in human language:\n",
        "\n",
        "* If `Sex_numeric` = 0 (this means that `Sex` = \"female\"):\n",
        "  * If `Pclass` ≤ 2, predict **YES** (the passenger survived)\n",
        "  * If `Pclass` = 3, predict **NO** (the passenger did not survived)\n",
        "* If `Sex_numeric` = 1 (`Sex` = \"male\"):\n",
        "  * If `Age` ≤ 6.5, predict **YES**\n",
        "  * If `Age` > 6.5, predict **NO**"
      ],
      "metadata": {
        "id": "l70fB7ZKXvRO"
      }
    },
    {
      "cell_type": "markdown",
      "source": [
        "A decision tree is inherently **interpretable,** because we know exactly how it is making the predictions it is making. If the model looks at a 10-year-old boy and predicts that he died, we know the logic that led to the model's decision. If it turns out the boy survived, we can understand where the model went wrong. If it turns out that the boy was actually 5, not 10, we can understand how the result would change."
      ],
      "metadata": {
        "id": "PGtxT_gjVhJX"
      }
    },
    {
      "cell_type": "markdown",
      "source": [
        "### Building a Decision Tree Model for Recidivism Risk\n",
        "\n",
        "Now it's your turn. You'll build a decision tree for recidivism risk. One option would be to use the 137 features on Northpointe's questionairre as your predictive variables—that's what the COMPAS tool does. But (a) we don't have those data, and (b) it turns out we can build a pretty good predictor with much simpler, less intrusive features. So that's what we'll do.\n",
        "\n",
        "Earlier in this notebook, you already loaded ProPublica's dataset and did some filtering. At this point, the notebook should still remember the resulting DataFrame, called `pp_data`. (If not, just re-run the cells up to this point.)\n",
        "\n",
        "Let's double-check:"
      ],
      "metadata": {
        "id": "QoSrf60gZWIr"
      }
    },
    {
      "cell_type": "code",
      "source": [
        "pp_data"
      ],
      "metadata": {
        "id": "9i3n3zQDZbF5"
      },
      "execution_count": null,
      "outputs": []
    },
    {
      "cell_type": "markdown",
      "source": [
        "### Building the Model\n",
        "\n",
        "**Question 4**\n",
        "\n",
        "The decision tree algorithm requires the features to be stored as numbers, not text. So, just like we converted \"Sex\" to a numeric value in the \"Titanic\" data, we'll convert both \"sex\" and \"race\" to numeric values in the ProPublica data. I'll do \"sex\", you do \"race\"."
      ],
      "metadata": {
        "id": "RxGBtk7BaSiH"
      }
    },
    {
      "cell_type": "code",
      "source": [
        "# Convert values in \"sex\" column to numeric values.\n",
        "encoded_sex = preprocessing.LabelEncoder()\n",
        "pp_data['sex_numeric'] = encoded_sex.fit_transform(pp_data['sex'])\n",
        "\n",
        "# Convert values in \"race\" column to numeric values.\n",
        "encoded_race = [...]\n",
        "pp_data['race_numeric'] = [...]"
      ],
      "metadata": {
        "id": "dgx8Kf4nZOBC"
      },
      "execution_count": null,
      "outputs": []
    },
    {
      "cell_type": "markdown",
      "source": [
        "Next, we have to split our data into **testing data** and **training data.** We'll use a 70/30 split. In the \"Titanic\" notebook, the dataset was already split (because it was part of a competition, and the outcome variables were removed from the training data).\n",
        "\n",
        "There are several ways to do this; for a discussion of a few of them, see https://stackoverflow.com/q/24147278/3453768. It's OK if you don't understand the next code block."
      ],
      "metadata": {
        "id": "NkQur2n0avhQ"
      }
    },
    {
      "cell_type": "code",
      "source": [
        "train = pp_data.sample(frac=0.7, random_state=200)\n",
        "test = pp_data.drop(train.index)"
      ],
      "metadata": {
        "id": "GlzUePP3bQ1M"
      },
      "execution_count": null,
      "outputs": []
    },
    {
      "cell_type": "markdown",
      "source": [
        "Next, we have to create arrays for the `target` and the `features`. \n",
        "\n",
        "**Question 5**\n",
        "\n",
        "Create a variable called `target` and set it equal to the values in the `two_year_recid` column in the `train` DataFrame."
      ],
      "metadata": {
        "id": "VQXPPY8nbxoC"
      }
    },
    {
      "cell_type": "code",
      "source": [
        "[...]"
      ],
      "metadata": {
        "id": "h1isSizCc6iw"
      },
      "execution_count": null,
      "outputs": []
    },
    {
      "cell_type": "markdown",
      "source": [
        "**Question 6**\n",
        "\n",
        "We'll use `age`, `race_numeric`, `sex_numeric`, `priors_count`, and `days_b_screening_arrest` as our features. \n",
        "\n",
        "Create a variable called `feature_names` and set it equal to a list of these column names. (Use the \"Titanic\" recap code as a template. Don't forget to enclose the column names in quotes.)"
      ],
      "metadata": {
        "id": "OgYYj8tuc7SI"
      }
    },
    {
      "cell_type": "code",
      "source": [
        "[...]"
      ],
      "metadata": {
        "id": "vwQBIqHMdU1C"
      },
      "execution_count": null,
      "outputs": []
    },
    {
      "cell_type": "markdown",
      "source": [
        "**Question 7**\n",
        "\n",
        "Create a variable called `features` and set it equal to the values in the columns of the `train` DataFrame corresponding to the features listed in `feature_names`. (Again, use the \"Titanic\" recap code as a template.)"
      ],
      "metadata": {
        "id": "xCaXU0v1dvi6"
      }
    },
    {
      "cell_type": "code",
      "source": [
        "[...]"
      ],
      "metadata": {
        "id": "VPJYhWQod-Xm"
      },
      "execution_count": null,
      "outputs": []
    },
    {
      "cell_type": "markdown",
      "source": [
        "**Question 8**\n",
        "\n",
        "Create a new decision tree, called `my_tree`, and fit it. Use a `max_depth` of 2. (Keep using the \"Titanic\" recap...)"
      ],
      "metadata": {
        "id": "Il7pJni8eHw7"
      }
    },
    {
      "cell_type": "code",
      "source": [
        "[...]"
      ],
      "metadata": {
        "id": "_64M_qzyeAAL"
      },
      "execution_count": null,
      "outputs": []
    },
    {
      "cell_type": "markdown",
      "source": [
        "**Question 9**\n",
        "\n",
        "Draw a plot of the decision tree. You can use the same `class_names` that we used in \"Titanic\". (Here, \"NO\" will mean we predict the defendant will not recidivate and \"YES\" will mean we predict they will.)"
      ],
      "metadata": {
        "id": "lLDL0R40enm3"
      }
    },
    {
      "cell_type": "code",
      "source": [
        "[...]"
      ],
      "metadata": {
        "id": "tRQkFq9Dezfp"
      },
      "execution_count": null,
      "outputs": []
    },
    {
      "cell_type": "markdown",
      "source": [
        "**Question 10**\n",
        "\n",
        "Have the decision tree list its decision rules in text form."
      ],
      "metadata": {
        "id": "vJ2MbH96e6B0"
      }
    },
    {
      "cell_type": "code",
      "source": [
        "[...]"
      ],
      "metadata": {
        "id": "3naYf6ZPe6B0"
      },
      "execution_count": null,
      "outputs": []
    },
    {
      "cell_type": "markdown",
      "source": [
        "**Question 11**\n",
        "\n",
        "Write the decision rules in human language. (If you want to use the same formatting as we did in \"Titanic\", double-click the text cell, copy the text, paste it below, and edit as needed. But it's fine if you don't format it in any particular way.)\n",
        "\n"
      ],
      "metadata": {
        "id": "w9dHLNoxfWhe"
      }
    },
    {
      "cell_type": "markdown",
      "source": [
        "**Answer:** *YOUR ANSWER HERE*"
      ],
      "metadata": {
        "id": "KqPtC9Gzfz6I"
      }
    },
    {
      "cell_type": "markdown",
      "source": [
        "### Evaluating the Model\n",
        "\n",
        "We'd like to know how accurate this model is, especially compared to COMPAS. If its accuracy is much worse, it suggests that there is a tradeoff (at least in this case) between accuracy and transparency—if we want one, we can't have the other. On the other hand, if our model is still pretty accurate, it suggests we can have both.\n",
        "\n",
        "You already built `target` and `features` arrays for the training data. But now we want to test our model on the testing data, so we'll need arrays for the testing data too."
      ],
      "metadata": {
        "id": "JJLssAFNgWJC"
      }
    },
    {
      "cell_type": "markdown",
      "source": [
        "**Question 12**\n",
        "\n",
        "Build two new variables, called `target_test` and `features_test`. Set `target_test` equal to the values in the `two_year_recid` column in the `test` DataFrame. Set `features_test` equal to the values in the columns of the `test` DataFrame corresponding to the features listed in `feature_names`. (You don't need to define `feature_names` again; it's still the same as last time.)"
      ],
      "metadata": {
        "id": "F4bZbVA_g8TO"
      }
    },
    {
      "cell_type": "code",
      "source": [
        "[...]"
      ],
      "metadata": {
        "id": "bM-HBqI7fUj1"
      },
      "execution_count": null,
      "outputs": []
    },
    {
      "cell_type": "markdown",
      "source": [
        "Now we can calculate the accuracy of your model on the testing data:"
      ],
      "metadata": {
        "id": "lIyTRQ-ph_Ou"
      }
    },
    {
      "cell_type": "code",
      "source": [
        "# Calculate accuracy on testing data.\n",
        "my_tree.score(features_test, target_test)"
      ],
      "metadata": {
        "id": "m32K6fcfh63K"
      },
      "execution_count": null,
      "outputs": []
    },
    {
      "cell_type": "markdown",
      "source": [
        "**Question 13**\n",
        "\n",
        "How good is the accuracy of your decision tree model, compared to the accuracy of COMPAS?"
      ],
      "metadata": {
        "id": "7jnZt2gdiLLZ"
      }
    },
    {
      "cell_type": "markdown",
      "source": [
        "**Answer:** *YOUR ANSWER HERE*"
      ],
      "metadata": {
        "id": "64fHyZADiRXT"
      }
    },
    {
      "cell_type": "markdown",
      "source": [
        "### Wrapping Up\n",
        "\n",
        "Rudin argues that there is great value to having an interpretable model. She uses a different method for building a decision tree, but the overall approach is similar. The decision rules she winds up with are:\n",
        "\n",
        "<center><img src=\"https://github.com/LarrySnyder/ASJ/raw/main/compas/images/rudin_rules.png\" width=\"600\"/></center>\n",
        "\n",
        "Her model's accuracy is slightly better than the accuracy of your decision tree.\n",
        "\n",
        "We could dig deeper to evaluate racial bias in the decision tree model, as ProPublica and Northpointe did for the COMPAS model. We won't do that in this notebook, but *feel free to do it on your own!* (It's not hard; you'd just be following the same templates that we've used already.)\n",
        "\n",
        "If you did that analysis, though, you'd find that:\n",
        "* The accuracy is similar for Black and white defendants (66% vs. 64%).\n",
        "* Under ProPublica's fairness measure (equalized odds, based on FPR and FNR), the decision tree model fares as badly as COMPAS, if not worse.\n",
        "* Under Northpointe's fairness measure (predictive parity, based on PPV and NPV), the decision tree model is a mixed bag: pretty equal in terms of NPV but pretty unequal in terms of PPV, with white defendants having worse accuracy than Black defendants in the latter sense.\n",
        "\n"
      ],
      "metadata": {
        "id": "1n1pxiKHt6y-"
      }
    },
    {
      "cell_type": "markdown",
      "source": [
        "**Question 14**\n",
        "\n",
        "What would be some of the advantages and disadvantages of using your decision tree model instead of COMPAS? "
      ],
      "metadata": {
        "id": "nVPzMVqvyGuO"
      }
    },
    {
      "cell_type": "markdown",
      "source": [
        "**Answer:** *YOUR ANSWER HERE*"
      ],
      "metadata": {
        "id": "DTDNYfifyX8G"
      }
    }
  ]
}